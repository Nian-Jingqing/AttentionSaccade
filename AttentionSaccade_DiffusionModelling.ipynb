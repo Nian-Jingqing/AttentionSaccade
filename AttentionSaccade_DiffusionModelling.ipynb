{
 "cells": [
  {
   "cell_type": "code",
   "execution_count": 1,
   "metadata": {
    "collapsed": false
   },
   "outputs": [
    {
     "data": {
      "text/html": [
       "<style>.container {width: 99% !important;}</style>"
      ],
      "text/plain": [
       "<IPython.core.display.HTML object>"
      ]
     },
     "metadata": {},
     "output_type": "display_data"
    }
   ],
   "source": [
    "from IPython.core.display import display, HTML\n",
    "display(HTML(\"<style>.container {width: 99% !important;}</style>\"))"
   ]
  },
  {
   "cell_type": "code",
   "execution_count": 2,
   "metadata": {
    "collapsed": false
   },
   "outputs": [
    {
     "name": "stderr",
     "output_type": "stream",
     "text": [
      "/Users/user/anaconda/lib/python2.7/site-packages/matplotlib/font_manager.py:273: UserWarning: Matplotlib is building the font cache using fc-list. This may take a moment.\n",
      "  warnings.warn('Matplotlib is building the font cache using fc-list. This may take a moment.')\n",
      "/Users/user/anaconda/lib/python2.7/site-packages/matplotlib/__init__.py:872: UserWarning: axes.color_cycle is deprecated and replaced with axes.prop_cycle; please use the latter.\n",
      "  warnings.warn(self.msg_depr % (key, alt_key))\n",
      "/Users/user/anaconda/lib/python2.7/site-packages/IPython/parallel.py:13: ShimWarning: The `IPython.parallel` package has been deprecated. You should import from ipyparallel instead.\n",
      "  \"You should import from ipyparallel instead.\", ShimWarning)\n"
     ]
    }
   ],
   "source": [
    "import numpy   as np\n",
    "import scipy   as sp\n",
    "import pandas  as pd\n",
    "import seaborn as sns\n",
    "import matplotlib\n",
    "import kabuki\n",
    "from matplotlib import pyplot as plt\n",
    "import ipyparallel\n",
    "from ipyparallel import parallel\n",
    "import hddm\n",
    "import os\n",
    "\n",
    "%matplotlib inline\n",
    "np.set_printoptions(suppress = True)"
   ]
  },
  {
   "cell_type": "code",
   "execution_count": 51,
   "metadata": {
    "collapsed": false
   },
   "outputs": [
    {
     "data": {
      "text/plain": [
       "Index([u'subject', u'session', u'trial', u'task', u'cuecol', u'cueloc',\n",
       "       u'validity', u'targloc', u'targtilt', u'delay', u'resp', u'time',\n",
       "       u'corr'],\n",
       "      dtype='object')"
      ]
     },
     "execution_count": 51,
     "metadata": {},
     "output_type": "execute_result"
    }
   ],
   "source": [
    "os.chdir(\"/Users/user/Desktop/Experiments/Nick/AttentionSaccade\")\n",
    "sublist = [1,2,3,4,5,6,7,8,9]\n",
    "\n",
    "datafname = os.path.join(os.getcwd(), 'AttentionSaccade_BehaviouralData_All.csv')\n",
    "data = pd.read_csv(datafname, sep = ',', index_col = False) #read in collated data\n",
    "data = data.drop(data.columns[0], axis = 1) #drop unnamed, random column that has appeared in the data\n",
    "attention = data.loc[data['task']==1]\n",
    "saccade   = data.loc[data['task']==2]\n",
    "attention.columns"
   ]
  },
  {
   "cell_type": "code",
   "execution_count": 56,
   "metadata": {
    "collapsed": false,
    "scrolled": true
   },
   "outputs": [
    {
     "data": {
      "image/png": "[encoded data removed]",
      "text/plain": [
       "<matplotlib.figure.Figure at 0x11edfdbd0>"
      ]
     },
     "metadata": {},
     "output_type": "display_data"
    }
   ],
   "source": [
    "plt.rcParams['figure.figsize'] = (15,5)\n",
    "for i, subject in attention.groupby('subject'):\n",
    "    subject.time.hist(bins = 20, histtype = 'step')"
   ]
  },
  {
   "cell_type": "code",
   "execution_count": 43,
   "metadata": {
    "collapsed": false
   },
   "outputs": [
    {
     "name": "stdout",
     "output_type": "stream",
     "text": [
      "(6891, 4) (1721, 4)\n"
     ]
    }
   ],
   "source": [
    "attention = attention[['subject', 'time', 'corr', 'validity']] #select dataframe down to just these variables\n",
    "attention = attention.rename(columns={'time':'rt', \"corr\":'response','subject':'subj_idx'}) #rename for use with hddm package\n",
    "attention = attention[np.isnan(attention['rt'])==False] #remove trials with no response\n",
    "\n",
    "attval = attention[attention['validity']==1]\n",
    "attinv = attention[attention['validity']==0]\n",
    "\n",
    "#rename colding of validity to string instead of number\n",
    "attention.loc[attention.validity==1, 'validity'] = 'valid'\n",
    "attention.loc[attention.validity==0, 'validity'] = 'invalid'\n",
    "print attval.shape, attinv.shape\n",
    "\n",
    "#attention.shape\n",
    "#attention = attention[attention['rt']<0.05]\n",
    "#np.where(np.isnan(attention['rt'])) #check for missing data"
   ]
  },
  {
   "cell_type": "code",
   "execution_count": 44,
   "metadata": {
    "collapsed": false
   },
   "outputs": [
    {
     "name": "stdout",
     "output_type": "stream",
     "text": [
      " [-----------------100%-----------------] 5000 of 5000 complete in 408.6 sec"
     ]
    },
    {
     "data": {
      "text/plain": [
       "<pymc.MCMC.MCMC at 0x11b898710>"
      ]
     },
     "execution_count": 44,
     "metadata": {},
     "output_type": "execute_result"
    }
   ],
   "source": [
    "#drift diffusion model on attention task data\n",
    "model = hddm.HDDM(data= attention, p_outlier=0.05, bias = True,\n",
    "                 depends_on = {'a':'validity', 'v':'validity', 't':'validity', 'z':'validity'}) #depends_on : model parameters estimated separately for validity conditions (so we can look at validity effect on model parameters)\n",
    "model.find_starting_values()\n",
    "model.sample(5000, burn=500)"
   ]
  },
  {
   "cell_type": "code",
   "execution_count": 46,
   "metadata": {
    "collapsed": false
   },
   "outputs": [
    {
     "data": {
      "text/html": [
       "<div>\n",
       "<style>\n",
       "    .dataframe thead tr:only-child th {\n",
       "        text-align: right;\n",
       "    }\n",
       "\n",
       "    .dataframe thead th {\n",
       "        text-align: left;\n",
       "    }\n",
       "\n",
       "    .dataframe tbody tr th {\n",
       "        vertical-align: top;\n",
       "    }\n",
       "</style>\n",
       "<table border=\"1\" class=\"dataframe\">\n",
       "  <thead>\n",
       "    <tr style=\"text-align: right;\">\n",
       "      <th></th>\n",
       "      <th>mean</th>\n",
       "      <th>std</th>\n",
       "      <th>2.5q</th>\n",
       "      <th>25q</th>\n",
       "      <th>50q</th>\n",
       "      <th>75q</th>\n",
       "      <th>97.5q</th>\n",
       "      <th>mc err</th>\n",
       "    </tr>\n",
       "  </thead>\n",
       "  <tbody>\n",
       "    <tr>\n",
       "      <th>a(invalid)</th>\n",
       "      <td>1.16097</td>\n",
       "      <td>0.0449423</td>\n",
       "      <td>1.07348</td>\n",
       "      <td>1.13174</td>\n",
       "      <td>1.16045</td>\n",
       "      <td>1.18919</td>\n",
       "      <td>1.25351</td>\n",
       "      <td>0.000871571</td>\n",
       "    </tr>\n",
       "    <tr>\n",
       "      <th>a(valid)</th>\n",
       "      <td>1.24471</td>\n",
       "      <td>0.0424981</td>\n",
       "      <td>1.15865</td>\n",
       "      <td>1.21791</td>\n",
       "      <td>1.24405</td>\n",
       "      <td>1.27113</td>\n",
       "      <td>1.33244</td>\n",
       "      <td>0.000721807</td>\n",
       "    </tr>\n",
       "    <tr>\n",
       "      <th>v(invalid)</th>\n",
       "      <td>1.26325</td>\n",
       "      <td>0.203803</td>\n",
       "      <td>0.85359</td>\n",
       "      <td>1.13493</td>\n",
       "      <td>1.26356</td>\n",
       "      <td>1.39496</td>\n",
       "      <td>1.65878</td>\n",
       "      <td>0.0034626</td>\n",
       "    </tr>\n",
       "    <tr>\n",
       "      <th>v(valid)</th>\n",
       "      <td>2.09363</td>\n",
       "      <td>0.197216</td>\n",
       "      <td>1.69837</td>\n",
       "      <td>1.97175</td>\n",
       "      <td>2.09332</td>\n",
       "      <td>2.2205</td>\n",
       "      <td>2.49297</td>\n",
       "      <td>0.00354715</td>\n",
       "    </tr>\n",
       "    <tr>\n",
       "      <th>t(invalid)</th>\n",
       "      <td>0.423296</td>\n",
       "      <td>0.021957</td>\n",
       "      <td>0.380373</td>\n",
       "      <td>0.409224</td>\n",
       "      <td>0.423427</td>\n",
       "      <td>0.436969</td>\n",
       "      <td>0.467597</td>\n",
       "      <td>0.000342743</td>\n",
       "    </tr>\n",
       "    <tr>\n",
       "      <th>t(valid)</th>\n",
       "      <td>0.32249</td>\n",
       "      <td>0.0214581</td>\n",
       "      <td>0.281797</td>\n",
       "      <td>0.308329</td>\n",
       "      <td>0.321893</td>\n",
       "      <td>0.336338</td>\n",
       "      <td>0.365627</td>\n",
       "      <td>0.000320299</td>\n",
       "    </tr>\n",
       "    <tr>\n",
       "      <th>z(invalid)</th>\n",
       "      <td>0.505436</td>\n",
       "      <td>0.0158374</td>\n",
       "      <td>0.474301</td>\n",
       "      <td>0.495061</td>\n",
       "      <td>0.505322</td>\n",
       "      <td>0.516065</td>\n",
       "      <td>0.536412</td>\n",
       "      <td>0.000441392</td>\n",
       "    </tr>\n",
       "    <tr>\n",
       "      <th>z(valid)</th>\n",
       "      <td>0.461673</td>\n",
       "      <td>0.0140641</td>\n",
       "      <td>0.434324</td>\n",
       "      <td>0.452507</td>\n",
       "      <td>0.461407</td>\n",
       "      <td>0.471141</td>\n",
       "      <td>0.489646</td>\n",
       "      <td>0.000409994</td>\n",
       "    </tr>\n",
       "  </tbody>\n",
       "</table>\n",
       "</div>"
      ],
      "text/plain": [
       "                mean        std      2.5q       25q       50q       75q  \\\n",
       "a(invalid)   1.16097  0.0449423   1.07348   1.13174   1.16045   1.18919   \n",
       "a(valid)     1.24471  0.0424981   1.15865   1.21791   1.24405   1.27113   \n",
       "v(invalid)   1.26325   0.203803   0.85359   1.13493   1.26356   1.39496   \n",
       "v(valid)     2.09363   0.197216   1.69837   1.97175   2.09332    2.2205   \n",
       "t(invalid)  0.423296   0.021957  0.380373  0.409224  0.423427  0.436969   \n",
       "t(valid)     0.32249  0.0214581  0.281797  0.308329  0.321893  0.336338   \n",
       "z(invalid)  0.505436  0.0158374  0.474301  0.495061  0.505322  0.516065   \n",
       "z(valid)    0.461673  0.0140641  0.434324  0.452507  0.461407  0.471141   \n",
       "\n",
       "               97.5q       mc err  \n",
       "a(invalid)   1.25351  0.000871571  \n",
       "a(valid)     1.33244  0.000721807  \n",
       "v(invalid)   1.65878    0.0034626  \n",
       "v(valid)     2.49297   0.00354715  \n",
       "t(invalid)  0.467597  0.000342743  \n",
       "t(valid)    0.365627  0.000320299  \n",
       "z(invalid)  0.536412  0.000441392  \n",
       "z(valid)    0.489646  0.000409994  "
      ]
     },
     "execution_count": 46,
     "metadata": {},
     "output_type": "execute_result"
    }
   ],
   "source": [
    "# a, v, t, z parameters for each participant, and the group (mean + stds)\n",
    "# a = decision threshold\n",
    "# v = drift rate\n",
    "# t = non-decision time parameter\n",
    "# z = prepotent response bias\n",
    "stats = model.gen_stats()\n",
    "stats[stats.index.isin(['a(valid)','a(invalid)','v(valid)','v(invalid)','t(valid)','t(invalid)','z(valid)','z(invalid)'])]"
   ]
  },
  {
   "cell_type": "code",
   "execution_count": 23,
   "metadata": {
    "collapsed": false
   },
   "outputs": [
    {
     "name": "stderr",
     "output_type": "stream",
     "text": [
      "/Users/user/anaconda/lib/python2.7/site-packages/scipy/optimize/optimize.py:1876: RuntimeWarning: invalid value encountered in double_scalars\n",
      "  tmp2 = (x - v) * (fx - fw)\n",
      "/Users/user/anaconda/lib/python2.7/site-packages/pymc/Node.py:403: VisibleDeprecationWarning: using a non-integer number instead of an integer will result in an error in the future\n",
      "  self.__name__ = input['__name__']\n"
     ]
    },
    {
     "name": "stdout",
     "output_type": "stream",
     "text": [
      " [-----------------100%-----------------] 2000 of 2000 complete in 116.6 sec"
     ]
    },
    {
     "data": {
      "text/plain": [
       "<pymc.MCMC.MCMC at 0x11b946f50>"
      ]
     },
     "execution_count": 23,
     "metadata": {},
     "output_type": "execute_result"
    }
   ],
   "source": [
    "# model valid and invalid trials separately\n",
    "modelvalid = hddm.HDDM(data = attval, p_outlier=0.05, bias = True)\n",
    "modelvalid.find_starting_values()\n",
    "modelvalid.sample(2000, burn = 20)\n",
    "\n",
    "modelinv = hddm.HDDM(data=attinv, p_outlier=0.05, bias = True)\n",
    "modelinv.find_starting_values()\n",
    "modelinv.sample(2000, burn = 20)\n",
    "\n",
    "#output stats for the independent models\n",
    "stats_valid = modelvalid.gen_stats()\n",
    "stats_valid[stats_valid.index.isin(['a', 'a_std', 'v','v_std', 't', 't_std', 'z', 'z_std'])] #only show group parameters\n",
    "stats_invalid = modelinv.gen_stats()\n",
    "stats_invalid[stats_invalid.index.isin(['a', 'a_std', 'v','v_std', 't', 't_std', 'z', 'z_std'])]\n"
   ]
  }
 ],
 "metadata": {
  "kernelspec": {
   "display_name": "Python 2",
   "language": "python",
   "name": "python2"
  },
  "language_info": {
   "codemirror_mode": {
    "name": "ipython",
    "version": 2
   },
   "file_extension": ".py",
   "mimetype": "text/x-python",
   "name": "python",
   "nbconvert_exporter": "python",
   "pygments_lexer": "ipython2",
   "version": "2.7.13"
  }
 },
 "nbformat": 4,
 "nbformat_minor": 0
}
