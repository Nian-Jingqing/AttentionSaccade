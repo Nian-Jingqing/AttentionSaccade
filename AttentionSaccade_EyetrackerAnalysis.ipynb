{
 "cells": [
  {
   "cell_type": "code",
   "execution_count": 1,
   "metadata": {
    "collapsed": false
   },
   "outputs": [
    {
     "data": {
      "text/html": [
       "<style>.container {width: 99% !important;}</style>"
      ],
      "text/plain": [
       "<IPython.core.display.HTML object>"
      ]
     },
     "metadata": {},
     "output_type": "display_data"
    }
   ],
   "source": [
    "from IPython.core.display import display,HTML\n",
    "display(HTML(\"<style>.container {width: 99% !important;}</style>\"))"
   ]
  },
  {
   "cell_type": "code",
   "execution_count": 2,
   "metadata": {
    "collapsed": false
   },
   "outputs": [],
   "source": [
    "import numpy as np\n",
    "import scipy as sp\n",
    "import pandas as pd\n",
    "import seaborn as sns\n",
    "import pygazeanalyser\n",
    "import matplotlib\n",
    "from matplotlib import pyplot as plt\n",
    "from pygazeanalyser.edfreader import read_edf\n",
    "from pygazeanalyser import gazeplotter\n",
    "from scipy import stats, signal, ndimage, interpolate\n",
    "import re\n",
    "import os\n",
    "import mne\n",
    "import copy\n",
    "import myfunctions\n",
    "#from mpl_toolkits.mplot3d import Axes3D\n",
    "%matplotlib inline\n",
    "#%matplotlib\n",
    "np.set_printoptions(suppress = True)"
   ]
  },
  {
   "cell_type": "code",
   "execution_count": 3,
   "metadata": {
    "collapsed": false
   },
   "outputs": [],
   "source": [
    "# set relevant directories and paths\n",
    "#workingfolder = '/Users/user/Desktop/Experiments/Nick/AttentionSaccade/' #laptop directory\n",
    "workingfolder = '/home/sammirc/Experiments/Nick/AttentionSaccade' #workstation directory\n",
    "eyedat        = os.path.join(workingfolder, 'eyes')\n",
    "behdat        = os.path.join(workingfolder, 'behaviour/csv')\n",
    "eegdat        = os.path.join(workingfolder, 'EEG') #only on workstation though, no eeg data on laptop\n",
    "eyelist       = os.listdir(eyedat)\n",
    "eyelist       = np.sort(eyelist)\n",
    "behlist       = np.sort(os.listdir(behdat))\n",
    "saccadedat    = os.path.join(workingfolder, 'saccades')\n",
    "if not os.path.exists(saccadedat):\n",
    "    os.mkdir(saccadedat)\n",
    "sublist = [1,2,3,4, 5, 6, 7, 8, 9]\n",
    "sublist = [1,2,  4, 5, 6, 7, 8, 9] #subject 3 has 961 trials in eyetracker data, and 960 in behavioural - check with nick. for now, remove from analysis\n",
    "#sublist = [1,2,     5, 6, 7, 8, 9]\n",
    "parts   = ['a','b']\n",
    "\n",
    "epsubs       = [3, 4, 5, 6,9] #subjects who did the task in EP\n",
    "ohbasubs     = [1, 2, 7 ,8]   #subjects who did the task in OHBA\n",
    "hrefsubs     = [7, 8]\n",
    "lowsamp_subs = [4]\n",
    "\n",
    "#1KHz  sample: 1 5 6 7 8 9\n",
    "#250Hz sample: 4\n",
    "\n",
    "# specs for the task\n",
    "resxy = (1920,1080)\n",
    "scrsize = (60,34)\n",
    "scrdist = 100 # cm\n",
    "#pixpcm = np.mean([resxy[0]/scrsize[0],resxy[1]/scrsize[1]])\n",
    "#samplerate = 1000.0 # Hz , sample every 1ms. subject 4 has 250Hz SR, all other 1kHz\n",
    "samplerate = 250.0 #for subject 4\n",
    "# Data files\n",
    "sep = '\\t' #value separator\n",
    "EDFSTART = \"_BEG\"\n",
    "EDFSTOP  = \"END\"\n",
    "TRIALORDER = [\"B(.*)_T(.*)_BEG\",\"B(.*)_T(.*)_CUE\",\"B(.*)_T(.*)_ARR\",\"B(.*)_T(.*)_RESP\",\"B(.*)_T(.*)_END\"]\n",
    "INVALCODE = np.NaN\n",
    "ppd = 72 #pixels per degree in current study"
   ]
  },
  {
   "cell_type": "code",
   "execution_count": null,
   "metadata": {
    "collapsed": true
   },
   "outputs": [],
   "source": [
    "# columns in the behavioural data\n",
    "# subject  - subject number\n",
    "# session  - session number\n",
    "# task     - task type (1 = attention, 2 = saccade)\n",
    "# cuecol   - \n",
    "# cueloc   - cued location (1:8)\n",
    "# validity - validity of cue (1 = valid, 0 = invalid)\n",
    "# targloc  - location of target (1:8) - can be same or different to cueloc depending on validity of trial\n",
    "# targtilt - orientation of target (1 = , 2 = )\n",
    "# delay    -\n",
    "# resp     - response made: 0 = no response, 1 = , 2 = \n",
    "# time     - NaN on saccade trials (or trials with no response), otherwise RT in seconds\n",
    "# corr     - accuracy of trial (1 = correct, 0 = incorrect), all saccade trials coded with 0 as no response"
   ]
  },
  {
   "cell_type": "code",
   "execution_count": 4,
   "metadata": {
    "collapsed": false
   },
   "outputs": [
    {
     "name": "stdout",
     "output_type": "stream",
     "text": [
      "working on S01\n",
      "combining S01 eyetracking and behavioural data, and adding triggers to eyetracking data\n",
      "working on S02\n",
      "combining S02 eyetracking and behavioural data, and adding triggers to eyetracking data\n",
      "working on S04\n",
      "combining S04 part 1 eyetracking and behavioural data, and adding triggers to eyetracking data\n",
      "combining S04 part 2 eyetracking and behavioural data, and adding triggers to eyetracking data\n",
      "working on S05\n",
      "combining S05 part 1 eyetracking and behavioural data, and adding triggers to eyetracking data\n",
      "combining S05 part 2 eyetracking and behavioural data, and adding triggers to eyetracking data\n",
      "working on S06\n",
      "combining S06 part 1 eyetracking and behavioural data, and adding triggers to eyetracking data\n",
      "combining S06 part 2 eyetracking and behavioural data, and adding triggers to eyetracking data\n",
      "working on S07\n",
      "combining S07 part 1 eyetracking and behavioural data, and adding triggers to eyetracking data\n",
      "combining S07 part 2 eyetracking and behavioural data, and adding triggers to eyetracking data\n",
      "working on S08\n",
      "combining S08 part 1 eyetracking and behavioural data, and adding triggers to eyetracking data\n",
      "combining S08 part 2 eyetracking and behavioural data, and adding triggers to eyetracking data\n",
      "working on S09\n",
      "combining S09 part 1 eyetracking and behavioural data, and adding triggers to eyetracking data\n",
      "combining S09 part 2 eyetracking and behavioural data, and adding triggers to eyetracking data\n",
      "done\n"
     ]
    }
   ],
   "source": [
    "edat = []\n",
    "for sub in range(len(sublist)):\n",
    "    print('working on S%02d'%(sublist[sub]))\n",
    "    \n",
    "    if sub in range(0,2): #subjects 1 and 2 only have one file per subject\n",
    "        fname    = os.path.join(eyedat, 'AttSacc_S%02d.asc'%(sublist[sub]));              datname  = os.path.join(behdat, 'AttSacc_S%02d.csv'%(sublist[sub]))\n",
    "        bdata    = pd.DataFrame.from_csv(datname, header=0, sep = ',', index_col=False);  edata    = read_edf(fname, EDFSTART, EDFSTOP, missing = np.NaN, debug = False)\n",
    "    elif sub in range(2,9): #all other subjects have 2 files per sub\n",
    "        fname    = os.path.join(eyedat, 'AttSacc_S%02d%s.asc'%(sublist[sub], parts[0]));  datname  = os.path.join(behdat, 'AttSacc_S%02d%s.csv'%(sublist[sub], parts[0]))\n",
    "        bdata    = pd.DataFrame.from_csv(datname, header=0, sep = ',', index_col=False);  edata    = read_edf(fname, EDFSTART, EDFSTOP, missing = np.NaN, debug = False)\n",
    "        \n",
    "        fname2   = os.path.join(eyedat, 'AttSacc_S%02d%s.asc'%(sublist[sub], parts[1]));  datname2 = os.path.join(behdat, 'AttSacc_S%02d%s.csv'%(sublist[sub], parts[1]))\n",
    "        bdata2   = pd.DataFrame.from_csv(datname2, header=0, sep = ',', index_col=False); edata2   = read_edf(fname2, EDFSTART, EDFSTOP, missing = np.NaN, debug = False)\n",
    "        \n",
    "    if sublist[sub] in epsubs: #EP locations\n",
    "        targlocations = np.array([[288,119], # cueloc = 1\n",
    "                                 [119, 288], # cueloc = 2\n",
    "                                 [-119, 288],# cueloc = 3\n",
    "                                 [-288, 119],# cueloc = 4\n",
    "                                 [-288,-119],# cueloc = 5\n",
    "                                 [-119,-288],# cueloc = 6\n",
    "                                 [119,-288], # cueloc = 7\n",
    "                                 [288,-119]] # cueloc = 8\n",
    "                                 )\n",
    "    elif sublist[sub] in ohbasubs: #ohba locations\n",
    "        targlocations = np.array([[399,165], # cueloc = 1\n",
    "                                 [165, 399], # cueloc = 2\n",
    "                                 [-165, 399],# cueloc = 3\n",
    "                                 [-399, 165],# cueloc = 4\n",
    "                                 [-399,-165],# cueloc = 5\n",
    "                                 [-165,-399],# cueloc = 6\n",
    "                                 [165,-399], # cueloc = 7\n",
    "                                 [399,-165]] # cueloc = 8\n",
    "                                 )\n",
    "                                 \n",
    "    targlocations[:,0] = targlocations[:,0]+(resxy[0]/2) # correct x from tracker coords to normal coords\n",
    "    targlocations[:,1] = targlocations[:,1]+(resxy[1]/2) # correct y from tracker coords to normal coords\n",
    "\n",
    "    if sub in range(0,2): #subjects 1 and 2 only have one file, not two so script changes accordingly.\n",
    "        print('combining S%02d eyetracking and behavioural data, and adding triggers to eyetracking data'%(sublist[sub]))\n",
    "        for trial in range(len(edata)):\n",
    "            trl = bdata.iloc[trial,:]\n",
    "            edata[trial]['behaviour'] = {\n",
    "                'subject'     : trl.loc['subject'] , 'session'  : trl.loc['session'] ,\n",
    "                'task'        : trl.loc['task']    , 'cuecol'   : trl.loc['cuecol']  ,\n",
    "                'cueloc'      : trl.loc['cueloc']  , 'validity' : trl.loc['validity'],\n",
    "                'targloc'     : trl.loc['targloc'] , 'targtilt' : trl.loc['targtilt'],\n",
    "                'delay'       : trl.loc['delay']   , 'resp'     : trl.loc['resp']    ,\n",
    "                'time'        : trl.loc['time']    , 'corr'     : trl.loc['corr']    ,\n",
    "                'sacc_allowed': 0,\n",
    "                'targlocpix'  : targlocations[int(trl.loc['targloc'])-1]\n",
    "            }\n",
    "            trigs = edata[trial]['events']['msg']\n",
    "            if len(trigs) == 4: # attention trial\n",
    "                trltype = 1 #attention trial\n",
    "                begtrig   = edata[trial]['events']['msg'][0][0] #get edf timestamp for the trial start trigger\n",
    "                cuetrig   = edata[trial]['events']['msg'][1][0] #get edf timestamp for cue trigger\n",
    "                arrtrig   = edata[trial]['events']['msg'][2][0] #get edf timestamp for array trigger\n",
    "                resptrig  = edata[trial]['events']['msg'][3][0] #get edf timestamp for array trigger\n",
    "            elif len(trigs) == 3: #saccade trial, no response\n",
    "                trltype = 2 #saccade trial\n",
    "                begtrig   = edata[trial]['events']['msg'][0][0] #get edf timestamp for the trial start trigger\n",
    "                cuetrig   = edata[trial]['events']['msg'][1][0] #get edf timestamp for cue trigger\n",
    "                arrtrig   = edata[trial]['events']['msg'][2][0] #get edf timestamp for array trigger\n",
    "                #find sample nearest to the trigger time\n",
    "            begind  = np.argmin(np.abs(begtrig  - edata[trial]['trackertime']))\n",
    "            cueind  = np.argmin(np.abs(cuetrig  - edata[trial]['trackertime']))\n",
    "            arrind  = np.argmin(np.abs(arrtrig  - edata[trial]['trackertime']))\n",
    "            if trltype == 1:\n",
    "                respind = np.argmin(np.abs(resptrig - edata[trial]['trackertime']))\n",
    "            if trltype == 1: #attention trial triggers\n",
    "                triggers = { #make dictionary of triggers\n",
    "                    \"start\" : [begtrig,  begind],\n",
    "                    \"cue\"   : [cuetrig,  cueind],\n",
    "                    \"array\" : [arrtrig,  arrind],\n",
    "                    \"resp\"  : [resptrig, respind]}\n",
    "            if trltype == 2: #saccade trial triggers\n",
    "                triggers = { #make dictionary of triggers\n",
    "                    \"start\" : [begtrig,  begind],\n",
    "                    \"cue\"   : [cuetrig,  cueind],\n",
    "                    \"array\" : [arrtrig,  arrind],}\n",
    "            edata[trial]['triggers'] = triggers\n",
    "            # triggers : [EDFTIME, TRIAL_TIME]      \n",
    "        saccfname = '%s/AttentionSaccade_S%02d_SaccadeData.csv' %(saccadedat, sublist[sub])\n",
    "        if not os.path.exists(saccfname):    \n",
    "            print('writing saccade data to file now')\n",
    "            saccfile     = open(saccfname, 'w')\n",
    "            saccfile.write('{},{},{},{},{},{},{},{},{},{} \\n'.format(\n",
    "                'subject','trial','start','end','duration','startx', 'starty','endx', 'endy', 'velocity'))\n",
    "            for trial in range(len(edata)):\n",
    "                saccades = edata[trial]['events']['Esac']\n",
    "                tnum = trial + 1\n",
    "                subject = edata[trial]['behaviour']['subject']\n",
    "                ttime = edata[trial]['trackertime'][0]\n",
    "                #saccades[saccade]: start, end, duration, startx, starty, endx, endy\n",
    "                for saccade in range(len(saccades)):\n",
    "                    saccadevel = np.sqrt((saccades[saccade][5]-saccades[saccade][3])**2 +\n",
    "                                         (saccades[saccade][6]-saccades[saccade][4])**2  ) / saccades[saccade][2]\n",
    "                    saccfile.write('{},{},{},{},{},{},{},{},{},{} \\n'.format(\n",
    "                            subject,tnum,saccades[saccade][0]-ttime,saccades[saccade][1]-ttime,\n",
    "                            saccades[saccade][2],saccades[saccade][3],saccades[saccade][4],\n",
    "                            saccades[saccade][5],saccades[saccade][6],saccadevel))\n",
    "            saccfile.close()\n",
    "        comb = edata\n",
    "        \n",
    "    elif sub not in range(0,2): # subjects 3 onwards have two files, not one\n",
    "        print('combining S%02d part 1 eyetracking and behavioural data, and adding triggers to eyetracking data'%(sublist[sub]))\n",
    "        for trial in range(len(edata)):\n",
    "            trl  = bdata.iloc[trial,:]\n",
    "            edata[trial]['behaviour'] = {\n",
    "                'subject'    : trl.loc['subject'] , 'session'  : trl.loc['session'] ,\n",
    "                'task'       : trl.loc['task']    , 'cuecol'   : trl.loc['cuecol']  ,\n",
    "                'cueloc'     : trl.loc['cueloc']  , 'validity' : trl.loc['validity'],\n",
    "                'targloc'    : trl.loc['targloc'] , 'targtilt' : trl.loc['targtilt'],\n",
    "                'delay'      : trl.loc['delay']   , 'resp'     : trl.loc['resp']    ,\n",
    "                'time'       : trl.loc['time']    , 'corr'     : trl.loc['corr']    , \n",
    "                'sacc_allowed': 0,\n",
    "                'targlocpix' : targlocations[int(trl.loc['targloc'])-1]\n",
    "                }\n",
    "            trigs = edata[trial]['events']['msg']\n",
    "            if len(trigs) == 4: # attention trial\n",
    "                trltype = 1 #attention trial\n",
    "                begtrig   = edata[trial]['events']['msg'][0][0] #get edf timestamp for the trial start trigger\n",
    "                cuetrig   = edata[trial]['events']['msg'][1][0] #get edf timestamp for cue trigger\n",
    "                arrtrig   = edata[trial]['events']['msg'][2][0] #get edf timestamp for array trigger\n",
    "                resptrig  = edata[trial]['events']['msg'][3][0] #get edf timestamp for array trigger\n",
    "            elif len(trigs) == 3: #saccade trial, no response\n",
    "                trltype = 2 #saccade trial\n",
    "                begtrig   = edata[trial]['events']['msg'][0][0] #get edf timestamp for the trial start trigger\n",
    "                cuetrig   = edata[trial]['events']['msg'][1][0] #get edf timestamp for cue trigger\n",
    "                arrtrig   = edata[trial]['events']['msg'][2][0] #get edf timestamp for array trigger\n",
    "            #find sample nearest to the trigger time\n",
    "            begind  = np.argmin(np.abs(begtrig  - edata[trial]['trackertime']))\n",
    "            cueind  = np.argmin(np.abs(cuetrig  - edata[trial]['trackertime']))\n",
    "            arrind  = np.argmin(np.abs(arrtrig  - edata[trial]['trackertime']))\n",
    "            if trltype == 1:\n",
    "                respind = np.argmin(np.abs(resptrig - edata[trial]['trackertime']))\n",
    "            if trltype == 1: #attention trial triggers\n",
    "                triggers = { #make dictionary of triggers\n",
    "                    \"start\" : [begtrig,  begind],\n",
    "                    \"cue\"   : [cuetrig,  cueind],\n",
    "                    \"array\" : [arrtrig,  arrind],\n",
    "                    \"resp\"  : [resptrig, respind]}\n",
    "            if trltype == 2: #saccade trial triggers\n",
    "                triggers = { #make dictionary of triggers\n",
    "                    \"start\" : [begtrig,  begind],\n",
    "                    \"cue\"   : [cuetrig,  cueind],\n",
    "                    \"array\" : [arrtrig,  arrind],}\n",
    "            edata[trial]['triggers'] = triggers\n",
    "            # triggers : [EDFTIME, TRIAL_TIME]      \n",
    "        saccfname = '%s/AttentionSaccade_S%02d%s_SaccadeData.csv' %(saccadedat, sublist[sub],parts[0])\n",
    "        if not os.path.exists(saccfname):    \n",
    "            print('writing saccade data to file now')\n",
    "            saccfile     = open(saccfname, 'w')\n",
    "            saccfile.write('{},{},{},{},{},{},{},{},{},{} \\n'.format(\n",
    "                'subject','trial','start','end','duration','startx', 'starty','endx', 'endy', 'velocity'))\n",
    "            for trial in range(len(edata)):\n",
    "                saccades = edata[trial]['events']['Esac']\n",
    "                tnum = trial + 1\n",
    "                subject = edata[trial]['behaviour']['subject']\n",
    "                ttime = edata[trial]['trackertime'][0]\n",
    "                #saccades[saccade]: start, end, duration, startx, starty, endx, endy\n",
    "                for saccade in range(len(saccades)):\n",
    "                    saccadevel = np.sqrt((saccades[saccade][5]-saccades[saccade][3])**2 +\n",
    "                                         (saccades[saccade][6]-saccades[saccade][4])**2  ) / saccades[saccade][2]\n",
    "                    saccfile.write('{},{},{},{},{},{},{},{},{},{} \\n'.format(\n",
    "                            subject,tnum,saccades[saccade][0]-ttime,saccades[saccade][1]-ttime,\n",
    "                            saccades[saccade][2],saccades[saccade][3],saccades[saccade][4],\n",
    "                            saccades[saccade][5],saccades[saccade][6],saccadevel))\n",
    "            saccfile.close()\n",
    "        print('combining S%02d part 2 eyetracking and behavioural data, and adding triggers to eyetracking data'%(sublist[sub]))\n",
    "        for trial in range(len(edata2)):\n",
    "            trl          = bdata2.iloc[trial,:]\n",
    "            edata2[trial]['behaviour'] = {\n",
    "                'subject'      : trl.loc['subject'] , 'session'  : trl.loc['session'] ,\n",
    "                'task'         : trl.loc['task']    , 'cuecol'   : trl.loc['cuecol']  ,\n",
    "                'cueloc'       : trl.loc['cueloc']  , 'validity' : trl.loc['validity'],\n",
    "                'targloc'      : trl.loc['targloc'] , 'targtilt' : trl.loc['targtilt'],\n",
    "                'delay'        : trl.loc['delay']   , 'resp'     : trl.loc['resp']    ,\n",
    "                'time'         : trl.loc['time']    , 'corr'     : trl.loc['corr']    ,\n",
    "                'targlocpix'   : targlocations[int(trl.loc['targloc'])-1],\n",
    "                'sacc_allowed' : 0\n",
    "            }\n",
    "            trigs = edata2[trial]['events']['msg']\n",
    "            if len(trigs) == 4: # attention trial\n",
    "                trltype = 1 #attention trial\n",
    "                begtrig   = edata2[trial]['events']['msg'][0][0] #get edf timestamp for the trial start trigger\n",
    "                cuetrig   = edata2[trial]['events']['msg'][1][0] #get edf timestamp for cue trigger\n",
    "                arrtrig   = edata2[trial]['events']['msg'][2][0] #get edf timestamp for array trigger\n",
    "                resptrig  = edata2[trial]['events']['msg'][3][0] #get edf timestamp for array trigger\n",
    "            elif len(trigs) == 3: #saccade trial, no response\n",
    "                trltype = 2 #saccade trial\n",
    "                begtrig   = edata2[trial]['events']['msg'][0][0] #get edf timestamp for the trial start trigger\n",
    "                cuetrig   = edata2[trial]['events']['msg'][1][0] #get edf timestamp for cue trigger\n",
    "                arrtrig   = edata2[trial]['events']['msg'][2][0] #get edf timestamp for array trigger\n",
    "            #find sample nearest to the trigger time\n",
    "            begind  = np.argmin(np.abs(begtrig  - edata2[trial]['trackertime']))\n",
    "            cueind  = np.argmin(np.abs(cuetrig  - edata2[trial]['trackertime']))\n",
    "            arrind  = np.argmin(np.abs(arrtrig  - edata2[trial]['trackertime']))\n",
    "            if trltype == 1:\n",
    "                respind = np.argmin(np.abs(resptrig - edata2[trial]['trackertime']))\n",
    "            if trltype == 1: #attention trial triggers\n",
    "                triggers = { #make dictionary of triggers\n",
    "                    \"start\" : [begtrig,  begind],\n",
    "                    \"cue\"   : [cuetrig,  cueind],\n",
    "                    \"array\" : [arrtrig,  arrind],\n",
    "                    \"resp\"  : [resptrig, respind]}\n",
    "            if trltype == 2: #saccade trial triggers\n",
    "                triggers = { #make dictionary of triggers\n",
    "                    \"start\" : [begtrig,  begind],\n",
    "                    \"cue\"   : [cuetrig,  cueind],\n",
    "                    \"array\" : [arrtrig,  arrind],}\n",
    "            edata2[trial]['triggers'] = triggers\n",
    "            # triggers : [EDFTIME, TRIAL_TIME]  \n",
    "        saccfname2    = '%s/AttentionSaccade_S%02d%s_SaccadeData.csv' %(saccadedat, sublist[sub],parts[1])\n",
    "        if not os.path.exists(saccfname2):\n",
    "            print('writing saccade data to file now')\n",
    "            saccfile2     = open(saccfname2, 'w')\n",
    "            saccfile2.write('{},{},{},{},{},{},{},{},{},{} \\n'.format(\n",
    "                'subject','trial','start','end','duration','startx', 'starty','endx', 'endy', 'velocity'))\n",
    "            for trial in range(len(edata2)):\n",
    "                saccades = edata2[trial]['events']['Esac']\n",
    "                tnum = trial + 1\n",
    "                subject = edata2[trial]['behaviour']['subject']\n",
    "                ttime = edata2[trial]['trackertime'][0]\n",
    "                #saccades[saccade]: start, end, duration, startx, starty, endx, endy\n",
    "                for saccade in range(len(saccades)):\n",
    "                    saccadevel = np.sqrt((saccades[saccade][5]-saccades[saccade][3])**2 +\n",
    "                                         (saccades[saccade][6]-saccades[saccade][4])**2  ) / saccades[saccade][2]\n",
    "                    saccfile2.write('{},{},{},{},{},{},{},{},{},{} \\n'.format(\n",
    "                            subject,tnum,saccades[saccade][0]-ttime,saccades[saccade][1]-ttime,\n",
    "                            saccades[saccade][2],saccades[saccade][3],saccades[saccade][4],\n",
    "                            saccades[saccade][5],saccades[saccade][6],saccadevel))\n",
    "            saccfile2.close()\n",
    "        comb = edata + edata2\n",
    "    edat.append(comb)\n",
    "\n",
    "edata = copy.deepcopy(edat) #so don't have to rerun preprocessing but instead can reload edat below\n",
    "print 'done'"
   ]
  },
  {
   "cell_type": "code",
   "execution_count": null,
   "metadata": {
    "collapsed": false
   },
   "outputs": [],
   "source": [
    "#check a trial with a blink in the 'middle' to verify script works\n",
    "tmptrl = copy.deepcopy(edat[7][70])\n",
    "plt.plot(tmptrl['x'], color = '#b3cde3', label = 'raw')\n",
    "myfunctions.interpolateBlinks(tmptrl)\n",
    "plt.plot(tmptrl['x'], color = '#fbb4ae', label = 'interpolated')\n",
    "plt.legend()\n",
    "plt.rcParams['figure.figsize'] = (7,7)\n",
    "plt.xlim([0,750])\n",
    "plt.ylim([1000-ppd*2,1000])"
   ]
  },
  {
   "cell_type": "code",
   "execution_count": null,
   "metadata": {
    "collapsed": false
   },
   "outputs": [],
   "source": [
    "#check a trial with a single blink at the end\n",
    "temp = copy.deepcopy(edat[7][85])\n",
    "plt.figure()\n",
    "plt.plot(edat[7][85]['x'], label = 'raw', color = '#b3cde3')\n",
    "myfunctions.interpolateBlinks(temp)\n",
    "plt.plot(temp['x'], label = 'interpolated', color = '#fbb4ae')\n",
    "plt.legend()\n",
    "plt.xlim([1700,None])\n",
    "plt.ylim([700,None])"
   ]
  },
  {
   "cell_type": "code",
   "execution_count": 11,
   "metadata": {
    "collapsed": false
   },
   "outputs": [
    {
     "name": "stdout",
     "output_type": "stream",
     "text": [
      "done!\n"
     ]
    }
   ],
   "source": [
    "# go through every subject and trial to calculate saccadic response time for a given trial\n",
    "# finds the first saccade of a trial after the target appears ('array' trigger)\n",
    "# takes the time at which is starts, and subtracts the time at which the array appears, to calculate\n",
    "# saccade response time\n",
    "# saccades: start, end, duration, startx, starty, endx, endy\n",
    "\n",
    "#edat = copy.deepcopy(edata)\n",
    "\n",
    "for isub in range(len(edat)): #loop through participants\n",
    "    sacctask = [x for x in range(len(edat[isub])) if edat[isub][x]['behaviour']['task'] == 2.0] # find trial indices of saccade task\n",
    "    for i in sacctask: #loop saccade trials + find saccade response time (onset latency) of first saccade after target appears\n",
    "        targettrig   = edat[isub][i]['triggers']['array'] #when the target appeared on screen\n",
    "        fstime       = edat[isub][i]['trackertime'][0] #eyetracker start of trial\n",
    "        if len(edat[isub][i]['events']['Esac']) > 0:\n",
    "            trlsaccades  = np.array(edat[isub][i]['events']['Esac']) #extract saccades for trial\n",
    "            trlsaccades  = trlsaccades[np.argsort(trlsaccades[:,0])] #sort saccades by start time\n",
    "            inds         = np.squeeze(np.where(trlsaccades[:,0] >= targettrig[0])) # find saccades after probe\n",
    "            if inds.size > 1:\n",
    "                firstind = inds[0] #take first saccade after probe\n",
    "                firstsaccade = trlsaccades[firstind]\n",
    "                edat[isub][i]['behaviour']['fstime']       = fstime #add first sample time to behavioural data\n",
    "                edat[isub][i]['behaviour']['firstsaccade'] = firstsaccade #add all saccade data\n",
    "                edat[isub][i]['behaviour']['saccadetime']  = firstsaccade[0]-fstime - targettrig[1] #add just saccadic response time\n",
    "            elif inds.size == 1: #only one saccade happened after the probe, so firstind = inds\n",
    "                firstind = inds # firstind = 0, as only 1 saccade in trial\n",
    "                firstsaccade = trlsaccades[firstind]\n",
    "                edat[isub][i]['behaviour']['fstime']       = fstime\n",
    "                edat[isub][i]['behaviour']['firstsaccade'] = firstsaccade\n",
    "                edat[isub][i]['behaviour']['saccadetime']  = firstsaccade[0]-fstime - targettrig[1]\n",
    "            elif inds.size == 0: #no saccades happened after the probe on this trial\n",
    "                edat[isub][i]['behaviour']['fstime']       = fstime\n",
    "                edat[isub][i]['behaviour']['firstsaccade'] = np.NaN\n",
    "                edat[isub][i]['behaviour']['saccadetime']  = np.NaN\n",
    "        elif len(edat[isub][i]['events']['Esac']) == 0: #no saccades happened on this trial\n",
    "            edat[isub][i]['behaviour']['fstime']       = fstime\n",
    "            edat[isub][i]['behaviour']['firstsaccade'] = np.NaN\n",
    "            edat[isub][i]['behaviour']['saccadetime']  = np.NaN\n",
    "\n",
    "# interpolate blinks in the gaze (x/y) data\n",
    "\n",
    "# NB: this doesn't work on subject 4, where the data was collected at 250 Hz.\n",
    "# need to find an acceptable way of removing blinks with the lower temporal resolution, as it cant be done effectively with the interpolateBlinks function, as it has inaccuracies in identification of blink end!\n",
    "\n",
    "for isub in range(len(edat)):\n",
    "    if sublist[isub] != 4:\n",
    "        for trl in range(len(edat[isub])):\n",
    "            myfunctions.interpolateBlinks(edat[isub][trl])\n",
    "            \n",
    "print 'done!'"
   ]
  },
  {
   "cell_type": "code",
   "execution_count": 10,
   "metadata": {
    "collapsed": false,
    "scrolled": true
   },
   "outputs": [
    {
     "data": {
      "text/plain": [
       "<matplotlib.legend.Legend at 0x7f0251567710>"
      ]
     },
     "execution_count": 10,
     "metadata": {},
     "output_type": "execute_result"
    },
    {
     "data": {
      "image/png": "[encoded data removed]",
      "text/plain": [
       "<matplotlib.figure.Figure at 0x7f02515b14d0>"
      ]
     },
     "metadata": {},
     "output_type": "display_data"
    }
   ],
   "source": [
    "#check interpolation working on trial with two blinks at the end of the trial!\n",
    "temp = copy.deepcopy(edat[3][568])\n",
    "plt.rcParams['figure.figsize'] = (10,10)\n",
    "plt.plot(temp['x'], label = 'raw', color = '#b3cde3')\n",
    "myfunctions.interpolateBlinks(temp)\n",
    "plt.plot(temp['x'], label = 'interp', color = '#fbb4ae')\n",
    "plt.xlim([2500, None])\n",
    "plt.legend()"
   ]
  },
  {
   "cell_type": "code",
   "execution_count": 12,
   "metadata": {
    "collapsed": false
   },
   "outputs": [],
   "source": [
    "# now all first saccades (after array) have been calculated, mark all trials where onset latency is less than 50ms as 'unusable'\n",
    "# i.e. data[subject][trial]['behaviour']['sacc_allowed] = 0 for trials where the onset was too quick, 1 for trials where it was ok\n",
    "\n",
    "for isub in range(len(edat)):\n",
    "    if sublist[isub] != 4: #rm subject 4 cos 250Hz sample rate and haven't fixed yet\n",
    "        sacctask = [x for x in range(len(edat[isub])) if edat[isub][x]['behaviour']['task']==2.0]\n",
    "        for sactrl in sacctask:\n",
    "            fsamp       = edat[isub][sactrl]['behaviour']['fstime']\n",
    "            arrtime     = edat[isub][sactrl]['triggers']['array'][1]\n",
    "            saccadetime = edat[isub][sactrl]['behaviour']['saccadetime']\n",
    "            fsactime = edat[isub][sactrl]['behaviour']['firstsaccade']\n",
    "            if type(fsactime)==float: #when there was no saccade after the target array appeared, fsactime is empty (but of 'float' type). use this fact to check if there was a saccade to use\n",
    "                continue\n",
    "            elif len(fsactime)>0: # just a sanity, check that fsactime has something in it, should have 7 things in it because it's a saccade\n",
    "                if saccadetime <50:\n",
    "                    edat[isub][sactrl]['behaviour']['sacc_allowed'] = 0\n",
    "                elif saccadetime > 50:\n",
    "                    edat[isub][sactrl]['behaviour']['sacc_allowed'] = 1\n",
    "\n",
    "# check if ppt gazed beyond 2 degrees from fixation during cue-target interval. set value for trial rejection\n",
    "# if unstable fixation set ['CT_stable'] -> 0\n",
    "# If stable fixation, set ['CT_stable'] -> 1\n",
    "\n",
    "# can then modify cell below to also verify that ['CT_stable'] is true, if not then don't include the trial in the analysis (should clean trials in line with nick's analysis plan)\n",
    "ppd = 72 #72 pixels per degree of visual angle\n",
    "fixpos = (960,540)\n",
    "for isub in range(len(edat)):\n",
    "    if sublist[isub] != 4: #rm subject 4 cos 250Hz sample rate and haven't fixed yet\n",
    "        for trl in range(len(edat[isub])):\n",
    "            epoch = [edat[isub][trl]['triggers']['cue'][1],edat[isub][trl]['triggers']['array'][1]]\n",
    "            x = edat[isub][trl]['x'][epoch[0]:epoch[1]+1]; y = edat[isub][trl]['y'][epoch[0]:epoch[1]+1]\n",
    "            if np.any(np.abs(myfunctions.Eucdist(fixpos[0], fixpos[1], x, y)) >= 2*ppd):\n",
    "                edat[isub][trl]['behaviour']['CT_stable'] = 0\n",
    "            else:\n",
    "                edat[isub][trl]['behaviour']['CT_stable'] = 1"
   ]
  },
  {
   "cell_type": "code",
   "execution_count": 13,
   "metadata": {
    "collapsed": false
   },
   "outputs": [],
   "source": [
    "#check how many, per person, are going to be removed due to CT_stable\n",
    "throwouts = []\n",
    "saccthrows = []\n",
    "for isub in range(len(edat)):\n",
    "    if sublist[isub] != 4:\n",
    "        throws   = [trl for trl in range(len(edat[isub])) if edat[isub][trl]['behaviour']['task']==2.0 and edat[isub][trl]['behaviour']['CT_stable'] == 0]\n",
    "        sacc_all = [trl for trl in range(len(edat[isub])) if edat[isub][trl]['behaviour']['task']==2.0 and edat[isub][trl]['behaviour']['sacc_allowed'] == 0]\n",
    "        thrw = len(throws)\n",
    "        saccs = len(sacc_all)\n",
    "        throwouts.append(thrw)\n",
    "        saccthrows.append(saccs)"
   ]
  },
  {
   "cell_type": "code",
   "execution_count": null,
   "metadata": {
    "collapsed": false
   },
   "outputs": [],
   "source": [
    "print throwouts\n",
    "print saccthrows\n",
    "# 1 degree from fixation"
   ]
  },
  {
   "cell_type": "code",
   "execution_count": 17,
   "metadata": {
    "collapsed": false
   },
   "outputs": [
    {
     "name": "stdout",
     "output_type": "stream",
     "text": [
      "[27, 281, 512, 621, 26, 35, 65]\n",
      "[94, 28, 45, 48, 10, 3, 76]\n",
      "0 1.0\n",
      "1 2.0\n",
      "3 5.0\n",
      "4 6.0\n",
      "5 7.0\n",
      "6 8.0\n",
      "7 9.0\n"
     ]
    }
   ],
   "source": [
    "print throwouts\n",
    "print saccthrows\n",
    "for i in range(len(edat)):\n",
    "    if sublist[i] != 4:\n",
    "        print i, edat[i][0]['behaviour']['subject']\n",
    "#2 degrees from fixation"
   ]
  },
  {
   "cell_type": "code",
   "execution_count": null,
   "metadata": {
    "collapsed": false
   },
   "outputs": [],
   "source": [
    "for i in range(len(edat[3])):\n",
    "    throws = [trl for trl in range(len(edat[3])) if edat[3][trl]['behaviour']['CT_stable']==0]\n"
   ]
  },
  {
   "cell_type": "code",
   "execution_count": null,
   "metadata": {
    "collapsed": false
   },
   "outputs": [],
   "source": [
    "np.array(throws)"
   ]
  },
  {
   "cell_type": "code",
   "execution_count": null,
   "metadata": {
    "collapsed": false
   },
   "outputs": [],
   "source": [
    "plt.plot(edat[3][14]['x'])\n",
    "plt.axvline(edat[3][14]['triggers']['array'][0]-edat[3][14]['trackertime'][0])\n",
    "plt.axvline(1059, linestyle = 'dotted', color = 'r')\n",
    "plt.axvline(1059-35, linestyle = 'dotted')\n",
    "plt.axvline(1068, linestyle = 'dotted', color = 'r')"
   ]
  },
  {
   "cell_type": "code",
   "execution_count": null,
   "metadata": {
    "collapsed": false,
    "scrolled": true
   },
   "outputs": [],
   "source": [
    "print edat[3][14]['events']['Eblk'][0] - edat[3][14]['trackertime'][0]\n",
    "print edat[3][14]['events']['Eblk'][1] - edat[3][14]['trackertime'][0]"
   ]
  },
  {
   "cell_type": "code",
   "execution_count": null,
   "metadata": {
    "collapsed": false
   },
   "outputs": [],
   "source": [
    "edat[7][70]['events']['Eblk']"
   ]
  },
  {
   "cell_type": "code",
   "execution_count": null,
   "metadata": {
    "collapsed": true
   },
   "outputs": [],
   "source": [
    "plt.plot(edat[7][70]['y']); #plt.xlim([None, 550])\n",
    "plt.axvline(edat[7][70]['events']['Eblk'][0][0]-edat[7][70]['trackertime'][0], linestyle = 'dotted', color = 'r')\n",
    "#plt.axvline(edat[7][70]['events']['Eblk'][0][1]-edat[7][70]['trackertime'][0], linestyle = 'dotted', color = 'r')\n",
    "plt.axvline(edat[7][70]['events']['Eblk'][0][0]+ edat[7][70]['events']['Eblk'][0][2], linestyle = 'dotted', color = 'r')\n",
    "#plt.axvline(edat[7][70]['events']['Eblk'][0][1]-edat[7][70]['trackertime'][0]+40)\n",
    "plt.xlim([180, 850])\n",
    "plt.figure()\n",
    "plt.rcParams['figure.figsize'] = (10,10)\n",
    "plt.plot(edat[7][70]['size'])\n",
    "#plt.xlim([None, 550])"
   ]
  },
  {
   "cell_type": "code",
   "execution_count": null,
   "metadata": {
    "collapsed": false,
    "scrolled": true
   },
   "outputs": [],
   "source": []
  },
  {
   "cell_type": "code",
   "execution_count": null,
   "metadata": {
    "collapsed": true
   },
   "outputs": [],
   "source": [
    "import myfunctions"
   ]
  },
  {
   "cell_type": "code",
   "execution_count": null,
   "metadata": {
    "collapsed": true
   },
   "outputs": [],
   "source": [
    "\n",
    "temp = copy.deepcopy(edat[7][23])\n",
    "plt.plot(edat[7][23]['x'])\n",
    "myfunctions.interpolateBlinks(temp)\n",
    "plt.plot(temp['x'], linestyle = 'dotted', color = '#fbb4ae')\n",
    "plt.axvline(temp['events']['Eblk'][0][0]-temp['trackertime'][0])\n",
    "plt.axvline(temp['events']['Eblk'][0][0]-temp['trackertime'][0] -20, linestyle = 'dotted')\n",
    "plt.axvline(temp['events']['Eblk'][0][0]-temp['trackertime'][0] -10, linestyle = 'dotted', color = 'r')\n",
    "plt.axvline(temp['events']['Eblk'][0][1]-temp['trackertime'][0])\n",
    "plt.axvline(temp['events']['Eblk'][0][1]-temp['trackertime'][0] +20, linestyle = 'dotted')\n",
    "plt.axvline(temp['events']['Eblk'][0][1]-temp['trackertime'][0] +10, linestyle = 'dotted', color = 'r')\n",
    "plt.xlim(850, 1050)\n",
    "plt.figure()\n",
    "#plt.plot(edat[7][23]['size'])\n",
    "edat[7][23]['events']['Eblk']-edat[7][23]['trackertime'][0]"
   ]
  },
  {
   "cell_type": "code",
   "execution_count": null,
   "metadata": {
    "collapsed": false
   },
   "outputs": [],
   "source": [
    "plt.rcParams['figure.figsize'] = (40,10)\n",
    "plt.plot(cont_pupil, label = 'raw', color = '#b3cde3')\n",
    "plt.plot(fitted_)"
   ]
  },
  {
   "cell_type": "code",
   "execution_count": null,
   "metadata": {
    "collapsed": true
   },
   "outputs": [],
   "source": []
  },
  {
   "cell_type": "code",
   "execution_count": null,
   "metadata": {
    "collapsed": true
   },
   "outputs": [],
   "source": []
  },
  {
   "cell_type": "code",
   "execution_count": null,
   "metadata": {
    "collapsed": false
   },
   "outputs": [],
   "source": [
    "np.stack([pupils, xs]).T.shape"
   ]
  },
  {
   "cell_type": "code",
   "execution_count": null,
   "metadata": {
    "collapsed": false
   },
   "outputs": [],
   "source": []
  },
  {
   "cell_type": "code",
   "execution_count": null,
   "metadata": {
    "collapsed": true
   },
   "outputs": [],
   "source": []
  },
  {
   "cell_type": "code",
   "execution_count": null,
   "metadata": {
    "collapsed": false
   },
   "outputs": [],
   "source": [
    "#import copy\n",
    "temp = copy.deepcopy(edat[0]) # take subject 1 to work from. 1920 trials\n",
    "#sacctask = [x for x in range(len(temp)) if temp[x]['behaviour']['task']==2.0] #0-10 are saccade trials lmao\n",
    "trial = 63\n",
    "epoch = [temp[trial]['triggers']['cue'][1], temp[trial]['triggers']['array'][1]]\n",
    "x = temp[trial]['x'][epoch[0]:epoch[1]+1]; y = temp[trial]['y'][epoch[0]:epoch[1]+1]\n",
    "print np.any(np.abs(np.subtract(x, 960)) >= ppd*2)\n",
    "plt.rcParams['figure.figsize'] = (1.92*5,1.08*5) #set to similar aspect ratio as the screen the task was presented on!\n",
    "sns.regplot(x,y) #scatter plot with line of best fit (i.e. trajectory of saccade)\n"
   ]
  },
  {
   "cell_type": "code",
   "execution_count": null,
   "metadata": {
    "collapsed": false
   },
   "outputs": [],
   "source": [
    "# this will need modifying slightly when the cell above is tweaked to allow for better/different selection of trials for analysis\n",
    "# e.g. sacval = [x for x in range(len(edat[isub])) if ..... and edat[isub][x]['behaviour']['CT_stable'] == 1] #only choose trials where fixation was maintained during the cue-target interval\n",
    "\n",
    "medianvaltime = []\n",
    "medianinvtime = []\n",
    "valids      = []; invalids = []\n",
    "for isub in range(len(edat)):\n",
    "    if sublist[isub] == 4: # subject 4, sample rate was 250hz so saccade onset is out by a factor of 4 (vs. 1000hz sample rate)\n",
    "        sacval = [x for x in range(len(edat[isub])) if edat[isub][x]['behaviour']['task']==2.0 and edat[isub][x]['behaviour']['validity']==1.0 and edat[isub][x]['behaviour']['sacc_allowed']==1]\n",
    "        sacinv = [x for x in range(len(edat[isub])) if edat[isub][x]['behaviour']['task']==2.0 and edat[isub][x]['behaviour']['validity']==0.0 and edat[isub][x]['behaviour']['sacc_allowed']==1]\n",
    "        valtrls = []; invtrls = []\n",
    "        for i in sacval:\n",
    "            valtrls.append(edat[isub][i]['behaviour']['saccadetime']/4)\n",
    "        for i in sacinv:\n",
    "            invtrls.append(edat[isub][i]['behaviour']['saccadetime']/4)\n",
    "        valtrials = []; invtrials = []\n",
    "        valtrlz = [x for x in range(len(valtrls)) if np.isnan(valtrls[x])==False]\n",
    "        invtrlz = [y for y in range(len(invtrls)) if np.isnan(invtrls[y])==False]\n",
    "        for i in valtrlz:\n",
    "            valtrials.append(valtrls[i])\n",
    "        for i in invtrlz:\n",
    "            invtrials.append(invtrls[i])\n",
    "        medianvaltime.append(np.median(valtrials)); valids.append([valtrials])\n",
    "        medianinvtime.append(np.median(invtrials)); invalids.append([invtrials])\n",
    "    elif sublist[isub] != 4:\n",
    "        sacval = [x for x in range(len(edat[isub])) if edat[isub][x]['behaviour']['task']==2.0 and edat[isub][x]['behaviour']['validity']==1.0 and edat[isub][x]['behaviour']['sacc_allowed']==1]\n",
    "        sacinv = [x for x in range(len(edat[isub])) if edat[isub][x]['behaviour']['task']==2.0 and edat[isub][x]['behaviour']['validity']==0.0 and edat[isub][x]['behaviour']['sacc_allowed']==1]\n",
    "        valtrls = []; invtrls = []\n",
    "        for i in sacval:\n",
    "            valtrls.append(edat[isub][i]['behaviour']['saccadetime'])\n",
    "        for i in sacinv:\n",
    "            invtrls.append(edat[isub][i]['behaviour']['saccadetime'])\n",
    "        valtrials = []; invtrials = []\n",
    "        valtrlz = [x for x in range(len(valtrls)) if np.isnan(valtrls[x])==False]\n",
    "        invtrlz = [y for y in range(len(invtrls)) if np.isnan(invtrls[y])==False]\n",
    "        for i in valtrlz:\n",
    "            valtrials.append(valtrls[i])\n",
    "        for i in invtrlz:\n",
    "            invtrials.append(invtrls[i])\n",
    "        medianvaltime.append(np.median(valtrials)); valids.append([valtrials])\n",
    "        medianinvtime.append(np.median(invtrials)); invalids.append([invtrials])\n",
    "\n",
    "valids   = np.squeeze(np.array(valids))\n",
    "invalids = np.squeeze(np.array(invalids))\n",
    "id = sublist\n",
    "medianvaltimedf = pd.DataFrame(medianvaltime); medianvaltimedf['subid'] = id; medianvaltimedf['Validity'] = 'Valid'\n",
    "medianinvtimedf = pd.DataFrame(medianinvtime); medianinvtimedf['subid'] = id; medianinvtimedf['Validity'] = 'Invalid'\n",
    "medianvaltimedf.columns = ['ST', 'id', 'Validity']\n",
    "medianinvtimedf.columns = ['ST', 'id', 'Validity']\n",
    "plotting    = pd.concat([medianvaltimedf, medianinvtimedf]) #meanvaltime and meaninvtime still contain data\n",
    "#print plotting"
   ]
  },
  {
   "cell_type": "code",
   "execution_count": null,
   "metadata": {
    "collapsed": false
   },
   "outputs": [],
   "source": [
    "# # # # # # # stats on saccade onset latency # # # # # # #\n",
    "plt.rcParams['figure.figsize']=(7,5)\n",
    "\n",
    "statplot = sns.barplot(x = plotting.Validity, y = plotting.ST, ci = 68)\n",
    "statplot.set_title('average saccade onset latency (8 subs, no s03)')\n",
    "statplot.set_xlabel('cue validity')\n",
    "statplot.set_ylabel('saccade time')\n",
    "sns.despine()\n",
    "plt.savefig('./figures/barplot_medianSaccadetime_9subs.png')\n",
    "\n",
    "\n",
    "test = stats.ttest_rel(medianvaltime, medianinvtime)\n",
    "print test.statistic, test.pvalue, '\\n', 'average saccade time validty effect: %s' %np.mean(np.subtract(medianvaltime,medianinvtime))"
   ]
  },
  {
   "cell_type": "code",
   "execution_count": null,
   "metadata": {
    "collapsed": false
   },
   "outputs": [],
   "source": [
    "# plot figure showing individual subjects saccade latencies by validity\n",
    "\n",
    "subs = [0,1,2,3,4,5,6,7]\n",
    "plt.rcParams['figure.figsize']=(15,20) # 3:2 ratio needed cos 3 columns 2 rows\n",
    "subject_histplots = plt.figure()\n",
    "subject_histplots.suptitle('saccade time distributions per participant')\n",
    "sns.set(style = 'white')\n",
    "for i in subs:\n",
    "#    if sublist[i] == 4:\n",
    "#        ax1 = subject_histplots.add_subplot(3,3,i+1, title = 'subject %s'%(sublist[i]))\n",
    "#        sns.distplot(np.divide(valids[i],4),   bins = 30, ax = ax1, label = 'Valid')\n",
    "#        sns.distplot(np.divide(invalids[i],4), bins = 30, ax = ax1, label = 'Invalid') # yellow histogram for invalids\n",
    "#    else:\n",
    "    ax1 = subject_histplots.add_subplot(3,3,i+1, title = 'subject %s'%(sublist[i]))\n",
    "    sns.distplot(valids[i],  bins = 30, ax = ax1, label = 'Valid')\n",
    "    sns.distplot(invalids[i],bins = 30, ax = ax1, label = 'Invalid') # yellow histogram for invalids\n",
    "sns.despine(offset = 10, trim = True) # removes the right and top axes from plot\n",
    "\n",
    "handles, labels = ax1.get_legend_handles_labels()\n",
    "subject_histplots.legend(handles, labels, prop = {'size':15})\n",
    "\n",
    "subject_histplots.savefig('./figures/9subs_st_distributions_validity.pdf')"
   ]
  },
  {
   "cell_type": "code",
   "execution_count": null,
   "metadata": {
    "collapsed": false
   },
   "outputs": [],
   "source": [
    "# plot valid and invalid trials for each subject, on separate plots\n",
    "\n",
    "plt.rcParams['figure.figsize']=(8,5)\n",
    "validplot = plt.figure()\n",
    "for i in range(len(valids)):\n",
    "    sns.distplot(valids[i], bins = 30)\n",
    "validplot.suptitle('valid trial saccade times for all participants')\n",
    "sns.despine()\n",
    "invalidplot = plt.figure()\n",
    "for i in range(len(invalids)):\n",
    "    sns.distplot(invalids[i], bins = 30)\n",
    "invalidplot.suptitle('invalid trial saccade times for all participants')\n",
    "sns.despine()"
   ]
  },
  {
   "cell_type": "code",
   "execution_count": null,
   "metadata": {
    "collapsed": true
   },
   "outputs": [],
   "source": [
    "# accuracy analysis\n",
    "# \n",
    "# 1 - if euclidian distance of saccade destination from target location beyond threshold value, mark as incorrect (need binary for the DDM modelling)\n",
    "\n",
    "# 2 - euclidian distance of saccade destination from target location, no judgement on correctness. continuous variable for non-binary analysis\n",
    "\n",
    "# 3 - circular angle between saccade destination and target location (and also from cued location on invalid trials)\n",
    "#     can then do circular stats on this and look at biasing effects on invalid trials\n",
    " \n",
    " "
   ]
  },
  {
   "cell_type": "code",
   "execution_count": null,
   "metadata": {
    "collapsed": false
   },
   "outputs": [],
   "source": [
    "#get precision of a saccade (euclidian distance of saccade end point from a coordinate (of centre of target))\n",
    "#check if within certain error range (100 pix appropriate?)\n",
    "\n",
    "#these target locations aren't right, waiting on nick for them\n",
    "#need to correct coordinates to transform from eyetracker space to normal cartesian space\n",
    "\n",
    "#EP locations\n",
    "eptarglocations = np.array([[288,119], # cueloc = 1\n",
    "                           [119, 288], # cueloc = 2\n",
    "                           [-119, 288],# cueloc = 3\n",
    "                           [-288, 119],# cueloc = 4\n",
    "                           [-288,-119],# cueloc = 5\n",
    "                           [-119,-288],# cueloc = 6\n",
    "                           [119,-288], # cueloc = 7\n",
    "                           [288,-119]] # cueloc = 8\n",
    "                           )\n",
    "\n",
    "#ohba locations\n",
    "obtarglocations = np.array([[399,165],  # cueloc = 1\n",
    "                           [165, 399], # cueloc = 2\n",
    "                           [-165, 399],# cueloc = 3\n",
    "                           [-399, 165],# cueloc = 4\n",
    "                           [-399,-165],# cueloc = 5\n",
    "                           [-165,-399],# cueloc = 6\n",
    "                           [165,-399], # cueloc = 7\n",
    "                           [399,-165]] # cueloc = 8\n",
    "                           )\n",
    "eptarglocations[:,0] = eptarglocations[:,0]+(resxy[0]/2) # correct x from tracker coords to normal coords\n",
    "eptarglocations[:,1] = eptarglocations[:,1]+(resxy[1]/2) # correct y from tracker coords to normal coords\n",
    "\n",
    "obtarglocations[:,0] = obtarglocations[:,0]+(resxy[0]/2) # correct x from tracker coords to normal coords\n",
    "obtarglocations[:,1] = obtarglocations[:,1]+(resxy[1]/2) # correct y from tracker coords to normal coords\n",
    "\n",
    "\n",
    "#temp = edat[1] #read in subject 5, 1khz sample rate eyetracking\n",
    "#saccvals = [x for x in range(len(temp)) if temp[x]['behaviour']['task']==2.0 and temp[x]['behaviour']['validity']==1.0]\n",
    "#loc1 = [y for y in saccvals if temp[y]['behaviour']['cueloc'] == 1.0]\n",
    "#print loc1, '\\n'\n",
    "\n",
    "#print targlocations[0], '\\n'\n",
    "#print temp[0]['behaviour']['firstsaccade'], '\\n'\n",
    "#print temp[0]['events']['Efix']\n"
   ]
  }
 ],
 "metadata": {
  "kernelspec": {
   "display_name": "Python [Root]",
   "language": "python",
   "name": "Python [Root]"
  },
  "language_info": {
   "codemirror_mode": {
    "name": "ipython",
    "version": 2
   },
   "file_extension": ".py",
   "mimetype": "text/x-python",
   "name": "python",
   "nbconvert_exporter": "python",
   "pygments_lexer": "ipython2",
   "version": "2.7.11"
  }
 },
 "nbformat": 4,
 "nbformat_minor": 0
}
