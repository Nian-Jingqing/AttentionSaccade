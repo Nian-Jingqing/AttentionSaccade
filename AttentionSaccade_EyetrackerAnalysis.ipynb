{
 "cells": [
  {
   "cell_type": "code",
   "execution_count": 51,
   "metadata": {
    "collapsed": false
   },
   "outputs": [],
   "source": [
    "import numpy as np\n",
    "import scipy as sp\n",
    "import pandas as pd\n",
    "import seaborn as sns\n",
    "import pygazeanalyser\n",
    "import matplotlib\n",
    "from matplotlib import pyplot as plt\n",
    "from pygazeanalyser.edfreader import read_edf\n",
    "from scipy import stats, signal, ndimage\n",
    "import re\n",
    "import os\n",
    "import mne\n",
    "from mpl_toolkits.mplot3d import Axes3D\n",
    "%matplotlib inline\n",
    "np.set_printoptions(suppress = True)"
   ]
  },
  {
   "cell_type": "code",
   "execution_count": 5,
   "metadata": {
    "collapsed": false
   },
   "outputs": [],
   "source": [
    "# set relevant directories and paths\n",
    "#workingfolder = '/Users/user/Desktop/Experiments/Nick/AttentionSaccade/' #laptop directory\n",
    "workingfolder = '/home/sammirc/Experiments/Nick/AttentionSaccade' #workstation directory\n",
    "eyedat        = os.path.join(workingfolder, 'eyes')\n",
    "behdat        = os.path.join(workingfolder, 'behaviour/csv')\n",
    "eegdat        = os.path.join(workingfolder, 'EEG') #only on workstation though, no eeg data on laptop\n",
    "eyelist       = os.listdir(eyedat)\n",
    "eyelist       = np.sort(eyelist)\n",
    "behlist       = np.sort(os.listdir(behdat))\n",
    "saccadedat    = os.path.join(workingfolder, 'saccades')\n",
    "if not os.path.exists(saccadedat):\n",
    "    os.mkdir(saccadedat)\n",
    "sublist = [4, 5, 6, 7, 8, 9]\n",
    "parts   = ['a','b']\n",
    "#1KHz  sample: 1 5 6 7 8 9\n",
    "#250Hz sample: 4"
   ]
  },
  {
   "cell_type": "code",
   "execution_count": 6,
   "metadata": {
    "collapsed": true
   },
   "outputs": [],
   "source": [
    "# specs for the task\n",
    "resxy = (1920,1080)\n",
    "scrsize = (60,34)\n",
    "scrdist = 100 # cm\n",
    "#pixpcm = np.mean([resxy[0]/scrsize[0],resxy[1]/scrsize[1]])\n",
    "#samplerate = 1000.0 # Hz , sample every 1ms. subject 4 has 250Hz SR, all other 1kHz\n",
    "samplerate = 250.0 #for subject 4\n",
    "# Data files\n",
    "sep = '\\t' #value separator\n",
    "EDFSTART = \"_BEG\"\n",
    "EDFSTOP  = \"END\"\n",
    "TRIALORDER = [\"B(.*)_T(.*)_BEG\",\"B(.*)_T(.*)_CUE\",\"B(.*)_T(.*)_ARR\",\"B(.*)_T(.*)_RESP\",\"B(.*)_T(.*)_END\"]\n",
    "INVALCODE = np.NaN"
   ]
  },
  {
   "cell_type": "code",
   "execution_count": null,
   "metadata": {
    "collapsed": true
   },
   "outputs": [],
   "source": [
    "# columns in the behavioural data\n",
    "# subject  - subject number\n",
    "# session  - session number\n",
    "# task     - task type (1 = attention, 2 = saccade)\n",
    "# cuecol   - \n",
    "# cueloc   - cued location (1:8)\n",
    "# validity - validity of cue (1 = valid, 0 = invalid)\n",
    "# targloc  - location of target (1:8) - can be same or different to cueloc depending on validity of trial\n",
    "# targtilt - orientation of target (1 = , 2 = )\n",
    "# delay    -\n",
    "# resp     - response made: 0 = no response, 1 = , 2 = \n",
    "# time     - NaN on saccade trials (or trials with no response), otherwise RT in seconds\n",
    "# corr     - accuracy of trial (1 = correct, 0 = incorrect), all saccade trials coded with 0 as no response"
   ]
  },
  {
   "cell_type": "code",
   "execution_count": 7,
   "metadata": {
    "collapsed": true
   },
   "outputs": [
    {
     "name": "stdout",
     "output_type": "stream",
     "text": [
      "working on S04\n",
      "combining S04 part 1 eyetracking and behavioural data, and adding triggers to eyetracking data\n",
      "combining S04 part 2 eyetracking and behavioural data, and adding triggers to eyetracking data\n",
      "working on S05\n",
      "combining S05 part 1 eyetracking and behavioural data, and adding triggers to eyetracking data\n",
      "combining S05 part 2 eyetracking and behavioural data, and adding triggers to eyetracking data\n",
      "working on S06\n",
      "combining S06 part 1 eyetracking and behavioural data, and adding triggers to eyetracking data\n",
      "combining S06 part 2 eyetracking and behavioural data, and adding triggers to eyetracking data\n",
      "working on S07\n",
      "combining S07 part 1 eyetracking and behavioural data, and adding triggers to eyetracking data\n",
      "combining S07 part 2 eyetracking and behavioural data, and adding triggers to eyetracking data\n",
      "working on S08\n",
      "combining S08 part 1 eyetracking and behavioural data, and adding triggers to eyetracking data\n",
      "combining S08 part 2 eyetracking and behavioural data, and adding triggers to eyetracking data\n",
      "working on S09\n",
      "combining S09 part 1 eyetracking and behavioural data, and adding triggers to eyetracking data\n",
      "combining S09 part 2 eyetracking and behavioural data, and adding triggers to eyetracking data\n"
     ]
    }
   ],
   "source": [
    "edat = []\n",
    "for sub in range(len(sublist)):\n",
    "    print('working on S%02d'%(sublist[sub]))\n",
    "    fname    = os.path.join(eyedat, 'AttSacc_S%02d%s.asc'%(sublist[sub], parts[0]))\n",
    "    datname  = os.path.join(behdat, 'AttSacc_S%02d%s.csv'%(sublist[sub], parts[0]))\n",
    "    bdata    = pd.DataFrame.from_csv(datname, header=0, sep = ',', index_col=False)\n",
    "    edata    = read_edf(fname, EDFSTART, EDFSTOP, missing = np.NaN, debug = False)\n",
    "\n",
    "    fname2   = os.path.join(eyedat, 'AttSacc_S%02d%s.asc'%(sublist[sub], parts[1]))\n",
    "    datname2 = os.path.join(behdat, 'AttSacc_S%02d%s.csv'%(sublist[sub], parts[1]))\n",
    "    bdata2   = pd.DataFrame.from_csv(datname2, header=0, sep = ',', index_col=False)\n",
    "    edata2   = read_edf(fname2, EDFSTART, EDFSTOP, missing = np.NaN, debug = False)\n",
    "\n",
    "    print('combining S%02d part 1 eyetracking and behavioural data, and adding triggers to eyetracking data'%(sublist[sub]))\n",
    "    for trial in range(len(edata)):\n",
    "        trl  = bdata.iloc[trial,:]\n",
    "        edata[trial]['behaviour'] = {\n",
    "            'subject'  : trl.loc['subject'] , 'session'  : trl.loc['session'] ,\n",
    "            'task'     : trl.loc['task']    , 'cuecol'   : trl.loc['cuecol']  ,\n",
    "            'cueloc'   : trl.loc['cueloc']  , 'validity' : trl.loc['validity'],\n",
    "            'targloc'  : trl.loc['targloc'] , 'targtilt' : trl.loc['targtilt'],\n",
    "            'delay'    : trl.loc['delay']   , 'resp'     : trl.loc['resp']    ,\n",
    "            'time'     : trl.loc['time']    , 'corr'     : trl.loc['corr']     }\n",
    "        trigs = edata[trial]['events']['msg']\n",
    "        if len(trigs) == 4: # attention trial\n",
    "            trltype = 1 #attention trial\n",
    "            begtrig   = edata[trial]['events']['msg'][0][0] #get edf timestamp for the trial start trigger\n",
    "            cuetrig   = edata[trial]['events']['msg'][1][0] #get edf timestamp for cue trigger\n",
    "            arrtrig   = edata[trial]['events']['msg'][2][0] #get edf timestamp for array trigger\n",
    "            resptrig  = edata[trial]['events']['msg'][3][0] #get edf timestamp for array trigger\n",
    "        elif len(trigs) == 3: #saccade trial, no response\n",
    "            trltype = 2 #saccade trial\n",
    "            begtrig   = edata[trial]['events']['msg'][0][0] #get edf timestamp for the trial start trigger\n",
    "            cuetrig   = edata[trial]['events']['msg'][1][0] #get edf timestamp for cue trigger\n",
    "            arrtrig   = edata[trial]['events']['msg'][2][0] #get edf timestamp for array trigger\n",
    "        #find sample nearest to the trigger time\n",
    "        begind  = np.argmin(np.abs(begtrig  - edata[trial]['trackertime']))\n",
    "        cueind  = np.argmin(np.abs(cuetrig  - edata[trial]['trackertime']))\n",
    "        arrind  = np.argmin(np.abs(arrtrig  - edata[trial]['trackertime']))\n",
    "        if trltype == 1:\n",
    "            respind = np.argmin(np.abs(resptrig - edata[trial]['trackertime']))\n",
    "        if trltype == 1: #attention trial triggers\n",
    "            triggers = { #make dictionary of triggers\n",
    "                \"start\" : [begtrig,  begind],\n",
    "                \"cue\"   : [cuetrig,  cueind],\n",
    "                \"array\" : [arrtrig,  arrind],\n",
    "                \"resp\"  : [resptrig, respind]}\n",
    "        if trltype == 2: #saccade trial triggers\n",
    "            triggers = { #make dictionary of triggers\n",
    "                \"start\" : [begtrig,  begind],\n",
    "                \"cue\"   : [cuetrig,  cueind],\n",
    "                \"array\" : [arrtrig,  arrind],}\n",
    "        edata[trial]['triggers'] = triggers\n",
    "        # triggers : [EDFTIME, TRIAL_TIME]      \n",
    "    saccfname = '%s/AttentionSaccade_S%02d%s_SaccadeData.csv' %(saccadedat, sublist[sub],parts[0])\n",
    "    if not os.path.exists(saccfname):    \n",
    "        print('writing saccade data to file now')\n",
    "        saccfile     = open(saccfname, 'w')\n",
    "        saccfile.write('{},{},{},{},{},{},{},{},{},{} \\n'.format(\n",
    "            'subject','trial','start','end','duration','startx', 'starty','endx', 'endy', 'velocity'))\n",
    "        for trial in range(len(edata)):\n",
    "            saccades = edata[trial]['events']['Esac']\n",
    "            tnum = trial + 1\n",
    "            subject = edata[trial]['behaviour']['subject']\n",
    "            ttime = edata[trial]['trackertime'][0]\n",
    "            #saccades[saccade]: start, end, duration, startx, starty, endx, endy\n",
    "            for saccade in range(len(saccades)):\n",
    "                saccadevel = np.sqrt((saccades[saccade][5]-saccades[saccade][3])**2 +\n",
    "                                     (saccades[saccade][6]-saccades[saccade][4])**2  ) / saccades[saccade][2]\n",
    "                saccfile.write('{},{},{},{},{},{},{},{},{},{} \\n'.format(\n",
    "                        subject,tnum,saccades[saccade][0]-ttime,saccades[saccade][1]-ttime,\n",
    "                        saccades[saccade][2],saccades[saccade][3],saccades[saccade][4],\n",
    "                        saccades[saccade][5],saccades[saccade][6],saccadevel))\n",
    "        saccfile.close()\n",
    "    print('combining S%02d part 2 eyetracking and behavioural data, and adding triggers to eyetracking data'%(sublist[sub]))\n",
    "    for trial in range(len(edata2)):\n",
    "        trl          = bdata2.iloc[trial,:]\n",
    "        edata2[trial]['behaviour'] = {\n",
    "            'subject'  : trl.loc['subject'] , 'session'  : trl.loc['session'] ,\n",
    "            'task'     : trl.loc['task']    , 'cuecol'   : trl.loc['cuecol']  ,\n",
    "            'cueloc'   : trl.loc['cueloc']  , 'validity' : trl.loc['validity'],\n",
    "            'targloc'  : trl.loc['targloc'] , 'targtilt' : trl.loc['targtilt'],\n",
    "            'delay'    : trl.loc['delay']   , 'resp'     : trl.loc['resp']    ,\n",
    "            'time'     : trl.loc['time']    , 'corr'     : trl.loc['corr']     }\n",
    "        trigs = edata2[trial]['events']['msg']\n",
    "        if len(trigs) == 4: # attention trial\n",
    "            trltype = 1 #attention trial\n",
    "            begtrig   = edata2[trial]['events']['msg'][0][0] #get edf timestamp for the trial start trigger\n",
    "            cuetrig   = edata2[trial]['events']['msg'][1][0] #get edf timestamp for cue trigger\n",
    "            arrtrig   = edata2[trial]['events']['msg'][2][0] #get edf timestamp for array trigger\n",
    "            resptrig  = edata2[trial]['events']['msg'][3][0] #get edf timestamp for array trigger\n",
    "        elif len(trigs) == 3: #saccade trial, no response\n",
    "            trltype = 2 #saccade trial\n",
    "            begtrig   = edata2[trial]['events']['msg'][0][0] #get edf timestamp for the trial start trigger\n",
    "            cuetrig   = edata2[trial]['events']['msg'][1][0] #get edf timestamp for cue trigger\n",
    "            arrtrig   = edata2[trial]['events']['msg'][2][0] #get edf timestamp for array trigger\n",
    "        #find sample nearest to the trigger time\n",
    "        begind  = np.argmin(np.abs(begtrig  - edata2[trial]['trackertime']))\n",
    "        cueind  = np.argmin(np.abs(cuetrig  - edata2[trial]['trackertime']))\n",
    "        arrind  = np.argmin(np.abs(arrtrig  - edata2[trial]['trackertime']))\n",
    "        if trltype == 1:\n",
    "            respind = np.argmin(np.abs(resptrig - edata2[trial]['trackertime']))\n",
    "        if trltype == 1: #attention trial triggers\n",
    "            triggers = { #make dictionary of triggers\n",
    "                \"start\" : [begtrig,  begind],\n",
    "                \"cue\"   : [cuetrig,  cueind],\n",
    "                \"array\" : [arrtrig,  arrind],\n",
    "                \"resp\"  : [resptrig, respind]}\n",
    "        if trltype == 2: #saccade trial triggers\n",
    "            triggers = { #make dictionary of triggers\n",
    "                \"start\" : [begtrig,  begind],\n",
    "                \"cue\"   : [cuetrig,  cueind],\n",
    "                \"array\" : [arrtrig,  arrind],}\n",
    "        edata2[trial]['triggers'] = triggers\n",
    "        # triggers : [EDFTIME, TRIAL_TIME]  \n",
    "    saccfname2    = '%s/AttentionSaccade_S%02d%s_SaccadeData.csv' %(saccadedat, sublist[sub],parts[1])\n",
    "    if not os.path.exists(saccfname2):\n",
    "        print('writing saccade data to file now')\n",
    "        saccfile2     = open(saccfname2, 'w')\n",
    "        saccfile2.write('{},{},{},{},{},{},{},{},{},{} \\n'.format(\n",
    "            'subject','trial','start','end','duration','startx', 'starty','endx', 'endy', 'velocity'))\n",
    "        for trial in range(len(edata2)):\n",
    "            saccades = edata2[trial]['events']['Esac']\n",
    "            tnum = trial + 1\n",
    "            subject = edata2[trial]['behaviour']['subject']\n",
    "            ttime = edata2[trial]['trackertime'][0]\n",
    "            #saccades[saccade]: start, end, duration, startx, starty, endx, endy\n",
    "            for saccade in range(len(saccades)):\n",
    "                saccadevel = np.sqrt((saccades[saccade][5]-saccades[saccade][3])**2 +\n",
    "                                     (saccades[saccade][6]-saccades[saccade][4])**2  ) / saccades[saccade][2]\n",
    "                saccfile2.write('{},{},{},{},{},{},{},{},{},{} \\n'.format(\n",
    "                        subject,tnum,saccades[saccade][0]-ttime,saccades[saccade][1]-ttime,\n",
    "                        saccades[saccade][2],saccades[saccade][3],saccades[saccade][4],\n",
    "                        saccades[saccade][5],saccades[saccade][6],saccadevel))\n",
    "        saccfile2.close()\n",
    "    comb = edata + edata2\n",
    "    edat.append(comb)"
   ]
  },
  {
   "cell_type": "code",
   "execution_count": 9,
   "metadata": {
    "collapsed": false
   },
   "outputs": [],
   "source": [
    "# go through every subject and trial to calculate saccadic response time for a given trial\n",
    "# finds the first saccade of a trial after the target appears ('array' trigger)\n",
    "# takes the time at which is starts, and subtracts the time at which the array appears, to calculate\n",
    "# saccade response timek\n",
    "\n",
    "for isub in range(len(edat)):\n",
    "    sacctask = [x for x in range(len(edat[isub])) if edat[isub][x]['behaviour']['task'] == 2.0]\n",
    "    for i in sacctask:\n",
    "        targettrig   = edat[isub][i]['triggers']['array']\n",
    "        fstime       = edat[isub][i]['trackertime'][0]\n",
    "        if len(edat[isub][i]['events']['Esac']) > 0:\n",
    "            trlsaccades  = np.array(edat[isub][i]['events']['Esac']) #extract saccades for trial\n",
    "            trlsaccades  = trlsaccades[np.argsort(trlsaccades[:,0])] #sort saccades by start time\n",
    "            inds         = np.squeeze(np.where(trlsaccades[:,0] >= targettrig[0])) # find saccades after probe\n",
    "            if inds.size > 1:\n",
    "                firstind = inds[0] #take first saccade after probe\n",
    "                firstsaccade = trlsaccades[firstind]\n",
    "                edat[isub][i]['behaviour']['fstime']       = fstime #add first sample time to behavioural data\n",
    "                edat[isub][i]['behaviour']['firstsaccade'] = firstsaccade #add all saccade data\n",
    "                edat[isub][i]['behaviour']['saccadetime']  = firstsaccade[0]-fstime - targettrig[1] #add just saccadic response time\n",
    "            elif inds.size == 1: #only one saccade happened after the probe, so firstind = inds\n",
    "                firstind = inds # firstind = 0, as only 1 saccade in trial\n",
    "                firstsaccade = trlsaccades[firstind]\n",
    "                edat[isub][i]['behaviour']['fstime']       = fstime\n",
    "                edat[isub][i]['behaviour']['firstsaccade'] = firstsaccade\n",
    "                edat[isub][i]['behaviour']['saccadetime']  = firstsaccade[0]-fstime - targettrig[1]\n",
    "            elif inds.size == 0: #no saccades happened after the probe on this trial\n",
    "                edat[isub][i]['behaviour']['fstime']       = fstime\n",
    "                edat[isub][i]['behaviour']['firstsaccade'] = np.NaN\n",
    "                edat[isub][i]['behaviour']['saccadetime']  = np.NaN\n",
    "        elif len(edat[isub][i]['events']['Esac']) == 0: #no saccades happened on this trial\n",
    "            edat[isub][i]['behaviour']['fstime']       = fstime\n",
    "            edat[isub][i]['behaviour']['firstsaccade'] = np.NaN\n",
    "            edat[isub][i]['behaviour']['saccadetime']  = np.NaN"
   ]
  },
  {
   "cell_type": "code",
   "execution_count": 17,
   "metadata": {
    "collapsed": false
   },
   "outputs": [],
   "source": [
    "subject  = edat[0] #read in subject 4\n",
    "subject2 = edat[1] #read in subject 5\n"
   ]
  },
  {
   "cell_type": "code",
   "execution_count": 66,
   "metadata": {
    "collapsed": true
   },
   "outputs": [
    {
     "name": "stdout",
     "output_type": "stream",
     "text": [
      "[374.5, 431.0, 391.5, 436.0, 398.5, 390.25, 422.5, 429.5, 405.0, 409.25, 418.5, 404.25, 398.0, 427.25, 396.0, 396.75, 407.5, 313.25, 409.0, 437.75, 423.25, 430.75, 423.75, 446.5, 383.0, 399.5, 392.0, 473.25, 380.25, 376.0, 381.25, 368.5, 344.75, 405.5, 382.75, 405.25, 445.25, 405.5, 407.5, 414.75, 396.5, 379.25, 395.5, 436.5, 415.0, 414.0, 424.75, 403.5, 402.0, 364.25, 444.25, 417.75, 356.75, 359.5, 414.75, 439.5, 341.5, 415.25, 415.0, 408.25, 394.0, 394.75, 382.5, 428.25, 385.75, 424.25, 374.25, 418.0, 418.0, 418.25, 429.25, 434.25, 378.25, 387.25, 369.5, 344.5, 379.5, 434.0, 412.0, 370.25, 373.5, 417.25, 423.0, 434.75, 393.25, 414.75, 399.75, 388.75, 379.75, 360.0, 425.25, 415.0, 395.0, 370.0, 377.25, 392.75, 391.25, 377.75, 416.0, 378.25, 388.0, 395.75, 405.25, 376.25, 389.75, 420.5, 381.5, 441.25, 417.0, 375.5, 435.0, 410.75, 401.25, 430.5, 423.25, 396.5, 454.5, 440.0, 443.5, 412.75, 428.5, 378.75, 391.5, 348.0, 381.5, 376.75, 443.25, 380.25, 442.5, 391.75, 394.75, 412.0, 430.75, 376.25, 373.75, 400.25, 393.0, 401.25, 420.25, 446.0, 429.5, 344.5, 439.25, 420.25, 428.0, 434.25, 378.75, 409.0, 341.25, 349.5, 408.75, 369.0, 422.25, 363.75, 407.5, 435.75, 395.5, 412.75, 376.5, 397.5, 374.5, 433.25, 388.5, 428.5, 439.75, 394.75, 394.75, 364.0, 403.0, 382.75, 347.25, 360.75, 421.25, 363.25, 470.0, 400.25, 406.0, 400.0, 398.5, 338.5, 389.5, 403.75, 383.0, 409.75, 399.0, 410.0, 427.5, 331.0, 403.75, 385.0, 390.0, 427.5, 415.25, 366.0, 400.0, 421.25, 398.5, 496.5, 422.25, 439.75, 383.0, 431.5, 370.25, 357.25, 341.25, 373.0, 394.0, 433.5, 390.75, 424.5, 437.75, 421.5, 393.75, 410.75, 348.5, 417.25, 379.0, 402.25, 449.0, 358.0, 439.25, 431.5, 398.0, 396.25, 335.75, 439.25, 409.25, 417.0, 398.25, 381.75, 442.0, 434.5, 427.0, 334.25, 379.25, 435.75, 437.25, 406.25, 424.75, 367.5, 405.0, 376.25, 384.75, 389.75, 406.5, 384.75, 409.75, 416.75, 380.5, 426.75, 444.0, 406.75, 376.25, 436.0, 357.5, 436.5, 385.0, 395.75, 392.0, 418.25, 438.0, 400.25, 412.25, 353.75, 353.5, 447.25, 387.75, 398.5, 369.0, 409.75, 411.0, 433.25, 368.75, 359.0, 331.0, 425.75, 367.0, 361.0, 406.0, 388.0, 444.75, 446.75, 396.75, 427.5, 420.0, 367.5, 389.0, 337.5, 317.75, 428.0, 449.0, 416.25, 405.0, 401.0, 372.5, 431.25, 414.0, 390.0, 413.0, 406.75, 348.75, 406.0, 365.75, 374.75, 405.75, 404.5, 389.5, 395.75, 430.75, 428.25, 336.25, 423.5, 402.75, 418.0, 408.5, 365.0, 393.25, 403.5, 398.5, 413.0, 396.0, 424.5, 357.25, 445.0, 409.75, 449.0, 399.0, 372.5, 425.5, 428.75, 379.5, 416.5, 368.25, 435.25, 388.5, 405.25, 428.75, 315.75, 401.75, 426.25, 443.0, 366.25, 352.5, 349.75, 379.5, 435.75, 408.25, 383.0, 383.25, 412.5, 367.75, 414.0, 392.75, 414.75, 403.5, 427.5, 374.5, 348.5, 391.75, 423.75, 327.25, 396.25, 431.25, 428.75, 382.0, 374.75, 437.25, 404.75, 442.0, 431.0, 434.5, 479.0, 422.0, 335.25, 403.75, 368.25, 404.0, 415.75, 406.0, 415.25, 435.5, 413.5, 375.5, 442.75, 373.0, 386.75, 378.0, 399.0, 436.25, 389.75, 400.25, 450.0, 407.75, 435.5, 369.0, 386.25, 370.25, 366.25, 429.0, 352.5, 381.5, 388.25, 366.75, 379.5, 388.5, 384.25, 370.5, 367.0, 410.25, 422.25, 405.0, 420.0, 406.0, 402.5, 402.5, 393.25, 399.75, 421.75, 387.25, 423.75, 432.0, 405.0, 364.0, 409.25, 388.25, 402.5, 401.0, 374.75, 348.0, 416.5, 394.25, 393.0, 403.0, 397.75, 402.0, 369.25, 414.0, 383.5, 336.0, 378.25, 385.5, 403.5, 331.75, 346.5, 318.25, 382.5, 392.5, 388.5, 424.25, 437.0, 400.0, 341.25, 404.25, 419.25, 355.5, 365.75, 432.25, 337.5, 411.0, 427.5, 339.5, 335.75, 412.25, 435.5, 413.25, 331.5, 435.25, 411.75, 402.25, 434.25, 435.75, 464.0, 391.25, 391.25, 377.5, 379.25, 364.75, 437.5, 390.75, 436.0, 389.75, 415.5, 441.25, 397.5, 449.75, 420.5, 437.0, 398.5, 433.0, 410.5, 426.25, 333.25, 410.5, 417.25, 432.5, 339.75, 430.25, 397.5, 354.0, 420.75, 385.0, 408.75, 423.25, 416.25, 410.5, 376.0, 411.75, 375.0, 399.25, 329.0, 397.75, 430.5, 415.25, 409.25, 342.25, 389.75, 417.5, 456.25, 336.25, 437.25, 444.0, 408.25, 389.25, 374.0, 401.5, 395.25, 402.75, 405.5, 355.25, 399.0, 360.5, 404.25, 381.25, 393.25, 427.75, 360.75, 380.5, 386.0, 418.5, 389.5, 381.25, 411.0, 413.75, 415.0, 400.75, 406.25, 368.25, 393.0, 390.5, 332.5, 381.75, 434.25, 417.25, 320.75, 371.5, 372.5, 427.75, 342.0, 383.75, 381.75, 423.75, 431.75, 418.75, 413.75, 325.75, 423.0, 445.75, 441.25, 408.75, 386.0, 405.25, 418.5, 341.0, 414.0, 432.5, 424.25, 391.25, 385.25, 370.5, 380.5, 337.0, 404.0, 430.25, 398.75, 344.75, 344.5, 334.25, 411.5, 425.5, 395.25, 405.25, 361.5, 403.5, 365.75, 375.5, 387.75, 412.0, 424.0, 431.0, 359.0, 379.0, 430.5, 402.75, 386.25, 416.25, 390.75, 422.25, 363.0, 404.25, 320.75, 350.75, 376.0, 362.25, 418.75, 407.25, 419.0, 400.0, 336.5, 381.5, 410.75, 397.25, 416.75, 452.5, 428.5, 439.5, 451.0, 441.25, 361.75, 333.25, 418.0, 420.5, 403.5, 421.0, 389.25, 388.25, 421.75, 331.0, 397.0, 367.75, 344.0, 400.0, 431.5, 373.25, 423.0, 415.5, 385.0, 367.75, 422.0, 406.5, 323.0, 400.75, 429.25, 337.5, 387.5, 400.0, 400.0, 387.5, 419.0, 372.75, 420.0, 352.75, 392.75, 325.75, 401.5, 367.0, 406.5, 319.25, 408.75, 402.25, 419.25, 412.75, 420.25, 434.0, 379.25, 410.75, 349.25, 400.5, 390.0, 384.75, 439.75, 443.75, 342.75, 584.5, 414.5, 372.5, 411.0, 408.75, 416.75, 418.75, 402.25, 411.5, 442.0, 390.75, 470.0, 432.5, 392.5, 396.75, 377.5, 330.0, 446.25, 425.0, 398.0, 396.5, 408.25, 414.5, 393.25, 415.25, 376.0, 408.25, 436.75, 430.0, 389.0, 443.75, 330.0, 351.25, 417.75, 403.25, 328.25, 416.75, 383.0, 389.75, 372.75, 425.5, 373.25, 316.0, 319.75, 376.5, nan, 404.0, 433.25, 363.0, 338.0, 370.5, 432.25, 349.5, 420.25, 331.5, 379.75, 345.0, 389.75, 434.25, 358.0, 438.25, 440.5, 361.5, 374.5, 416.0, 398.5, 401.5, 405.25, 407.25, 384.0, 368.25, 407.0, 395.25, 423.0, 412.25, 422.5, 373.25, 410.75, 443.5, 350.25, 421.0, 415.0, 396.25, 415.5, 426.5, 401.75]\n"
     ]
    }
   ],
   "source": [
    "saccade   = [x for x in range(len(subject))  if subject[x]['behaviour']['task']  == 2.0]\n",
    "saccade2  = [x for x in range(len(subject2)) if subject2[x]['behaviour']['task'] == 2.0] \n",
    "#print subject[1]['behaviour']['saccadetime']/4 #divide by 4 to bring 1khz and 250hz samples in alignment\n",
    "#print subject2[1]['behaviour']['saccadetime']\n",
    "\n",
    "sacval = [x for x in range(len(subject)) if subject[x]['behaviour']['task']==2.0 and subject[x]['behaviour']['validity']==1.0]\n",
    "sacinv = [x for x in range(len(subject)) if subject[x]['behaviour']['task']==2.0 and subject[x]['behaviour']['validity'] == 0.0]\n",
    "\n",
    "valtrls = []; invtrls = []\n",
    "for i in sacval:\n",
    "    valtrls.append(subject[i]['behaviour']['saccadetime']/4)\n",
    "for y in sacinv:\n",
    "    invtrls.append(subject[y]['behaviour']['saccadetime']/4)\n",
    "    \n",
    "#valtrls = np.array([valtrls])\n",
    "#invtrls = np.array([invtrls])\n",
    "print valtrls"
   ]
  },
  {
   "cell_type": "code",
   "execution_count": 97,
   "metadata": {
    "collapsed": true
   },
   "outputs": [],
   "source": [
    "meanvaltime = []\n",
    "meaninvtime = []\n",
    "for isub in range(len(edat)):\n",
    "    if isub == 0:\n",
    "        sacval = [x for x in range(len(edat[isub])) if edat[isub][x]['behaviour']['task']==2.0 and edat[isub][x]['behaviour']['validity']==1.0]\n",
    "        sacinv = [x for x in range(len(edat[isub])) if edat[isub][x]['behaviour']['task']==2.0 and edat[isub][x]['behaviour']['validity']==0.0]\n",
    "        valtrls = []; invtrls = []\n",
    "        for i in sacval:\n",
    "            valtrls.append(edat[isub][i]['behaviour']['saccadetime']/4)\n",
    "        for i in sacinv:\n",
    "            invtrls.append(edat[isub][i]['behaviour']['saccadetime']/4)\n",
    "        valtrials = []; invtrials = []\n",
    "        valtrlz = [x for x in range(len(valtrls)) if np.isnan(valtrls[x])==False]\n",
    "        invtrlz = [y for y in range(len(invtrls)) if np.isnan(invtrls[y])==False]\n",
    "        for i in valtrlz:\n",
    "            valtrials.append(valtrls[i])\n",
    "        for i in invtrlz:\n",
    "            invtrials.append(invtrls[i])\n",
    "        meanvaltime.append(np.mean(valtrials))\n",
    "        meaninvtime.append(np.mean(invtrials))\n",
    "    elif isub > 0:\n",
    "        sacval = [x for x in range(len(edat[isub])) if edat[isub][x]['behaviour']['task']==2.0 and edat[isub][x]['behaviour']['validity']==1.0]\n",
    "        sacinv = [x for x in range(len(edat[isub])) if edat[isub][x]['behaviour']['task']==2.0 and edat[isub][x]['behaviour']['validity']==0.0]\n",
    "        valtrls = []; invtrls = []\n",
    "        for i in sacval:\n",
    "            valtrls.append(edat[isub][i]['behaviour']['saccadetime'])\n",
    "        for i in sacinv:\n",
    "            invtrls.append(edat[isub][i]['behaviour']['saccadetime'])\n",
    "        valtrials = []; invtrials = []\n",
    "        valtrlz = [x for x in range(len(valtrls)) if np.isnan(valtrls[x])==False]\n",
    "        invtrlz = [y for y in range(len(invtrls)) if np.isnan(invtrls[y])==False]\n",
    "        for i in valtrlz:\n",
    "            valtrials.append(valtrls[i])\n",
    "        for i in invtrlz:\n",
    "            invtrials.append(invtrls[i])\n",
    "        meanvaltime.append(np.mean(valtrials))\n",
    "        meaninvtime.append(np.mean(invtrials))\n",
    "        "
   ]
  },
  {
   "cell_type": "code",
   "execution_count": 180,
   "metadata": {
    "collapsed": false
   },
   "outputs": [
    {
     "data": {
      "text/plain": [
       "<matplotlib.axes._subplots.AxesSubplot at 0x7f13ec7f3210>"
      ]
     },
     "execution_count": 180,
     "metadata": {},
     "output_type": "execute_result"
    },
    {
     "data": {
      "image/png": "[encoded data removed]",
      "text/plain": [
       "<matplotlib.figure.Figure at 0x7f13ec8444d0>"
      ]
     },
     "metadata": {},
     "output_type": "display_data"
    }
   ],
   "source": [
    "#meanvaltime and meaninvtime\n",
    "valmean = sp.mean(meanvaltime);     invmean = sp.mean(meaninvtime)\n",
    "valsem = sp.stats.sem(meanvaltime); invsem = sp.stats.sem(meaninvtime)\n",
    "\n",
    "toplot = np.array([[valmean,1, valsem],[invmean, 2, invsem]])\n",
    "toplot = pd.DataFrame(toplot)\n",
    "toplot.columns = ['ST', 'Validity', 'sem']\n",
    "\n",
    "sns.barplot(x = toplot.Validity, y = toplot.ST, ci = toplot.sem)"
   ]
  },
  {
   "cell_type": "code",
   "execution_count": 88,
   "metadata": {
    "collapsed": false
   },
   "outputs": [],
   "source": [
    "#seaborn.kdeplot(np.array(valtrls), bw = 0.5)\n",
    "\n",
    "#seaborn.distplot(np.array(valtrls), bins = 20, hist = True)\n",
    "#seaborn.distplot(valtrls)\n",
    "sns.set(color_codes=True)\n",
    "#sns.distplot(valtrls)\n",
    "np.where(np.isnan(valtrls))\n",
    "valtrlz = [x for x in range(len(valtrls)) if np.isnan(valtrls[x])==False]\n",
    "valtrials = []\n",
    "for i in valtrlz:\n",
    "    valtrials.append(valtrls[i])"
   ]
  },
  {
   "cell_type": "code",
   "execution_count": 95,
   "metadata": {
    "collapsed": false
   },
   "outputs": [
    {
     "data": {
      "text/plain": [
       "<matplotlib.axes._subplots.AxesSubplot at 0x7f13edc7d490>"
      ]
     },
     "execution_count": 95,
     "metadata": {},
     "output_type": "execute_result"
    },
    {
     "data": {
      "image/png": "[encoded data removed]",
      "text/plain": [
       "<matplotlib.figure.Figure at 0x7f13ed574a50>"
      ]
     },
     "metadata": {},
     "output_type": "display_data"
    }
   ],
   "source": [
    "sns.distplot(valtrials, bins = 30)"
   ]
  },
  {
   "cell_type": "code",
   "execution_count": null,
   "metadata": {
    "collapsed": true
   },
   "outputs": [],
   "source": [
    "meanvaltime = []\n",
    "meaninvtime = []\n",
    "for isub in range(len(edat)):\n",
    "    if isub == 0:\n",
    "        subject = edat[isub]\n",
    "        valtrls = [x for x in range(len(subject)) if subject[x]['behaviour']['task']==2.0 and subject[x]['behaviour']['validity'] == 1.0]\n",
    "        invtrls = [x for x in range(len(subject)) if subject[x]['behaviour']['task']==2.0 and subject[x]['behaviour']['validity'] == 0.0]"
   ]
  },
  {
   "cell_type": "code",
   "execution_count": 55,
   "metadata": {
    "collapsed": false
   },
   "outputs": [],
   "source": [
    "trls = []\n",
    "sacctask = [x for x in range(len(subject)) if subject[x]['behaviour']['task']==2.0]\n",
    "for i in sacctask:\n",
    "    trls.append(subject[i]['behaviour']['saccadetime'])\n",
    "#sactimes = subject[]['behaviour']['saccadetime']"
   ]
  },
  {
   "cell_type": "code",
   "execution_count": null,
   "metadata": {
    "collapsed": false
   },
   "outputs": [],
   "source": [
    "plt.figure(figsize = (15,10))\n",
    "plt.plot(temp['x'], color = '#fec44f')\n",
    "plt.axvline(targtrig[1], color = '#e41a1c')\n",
    "plt.axvline(temp['events']['Esac'][1][0]-ttime, ls = 'dashed', color = '#636363')\n",
    "#plt.axvline(temp['events']['Esac'][2][0]-ttime, ls = 'dashed', color = '#636363')\n",
    "#plt.axvline(temp['events']['Esac'][3][0]-ttime, ls = 'dashed', color = '#636363')\n",
    "#plt.axvline(temp['events']['Esac'][4][0]-ttime, ls = 'dashed', color = '#636363')\n"
   ]
  },
  {
   "cell_type": "code",
   "execution_count": null,
   "metadata": {
    "collapsed": false
   },
   "outputs": [],
   "source": [
    "# edat contains all, both eyetracking and behavioural, but it's computationally 'intensive' to create this\n",
    "# every time you want to access this data. This structure should be created once only, then output as a\n",
    "# text file that can be read in, rather than recreating and overwriting certain things each time\n",
    "# this section will separate edat by subject - edat[0] contains subject 4 data at the moment and then write\n",
    "\n",
    "# need to find a dataformat that can make each subject data to a file\n",
    "#that can be read in the subsequent cell replacing the need for some cells above"
   ]
  }
 ],
 "metadata": {
  "kernelspec": {
   "display_name": "Python [Root]",
   "language": "python",
   "name": "Python [Root]"
  },
  "language_info": {
   "codemirror_mode": {
    "name": "ipython",
    "version": 2
   },
   "file_extension": ".py",
   "mimetype": "text/x-python",
   "name": "python",
   "nbconvert_exporter": "python",
   "pygments_lexer": "ipython2",
   "version": "2.7.11"
  }
 },
 "nbformat": 4,
 "nbformat_minor": 0
}
