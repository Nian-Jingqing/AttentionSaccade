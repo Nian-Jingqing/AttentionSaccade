{
 "cells": [
  {
   "cell_type": "code",
   "execution_count": 1,
   "metadata": {
    "collapsed": false
   },
   "outputs": [],
   "source": [
    "import numpy as np\n",
    "import scipy as sp\n",
    "import pandas as pd\n",
    "import seaborn as sns\n",
    "import pygazeanalyser\n",
    "import matplotlib\n",
    "from matplotlib import pyplot as plt\n",
    "from pygazeanalyser.edfreader import read_edf\n",
    "from scipy import stats, signal, ndimage\n",
    "import re\n",
    "import os\n",
    "import mne\n",
    "from mpl_toolkits.mplot3d import Axes3D\n",
    "%matplotlib inline\n",
    "np.set_printoptions(suppress = True)"
   ]
  },
  {
   "cell_type": "code",
   "execution_count": 2,
   "metadata": {
    "collapsed": false
   },
   "outputs": [],
   "source": [
    "# set relevant directories and paths\n",
    "#workingfolder = '/Users/user/Desktop/Experiments/Nick/AttentionSaccade/' #laptop directory\n",
    "workingfolder = '/home/sammirc/Experiments/Nick/AttentionSaccade' #workstation directory\n",
    "eyedat        = os.path.join(workingfolder, 'eyes')\n",
    "behdat        = os.path.join(workingfolder, 'behaviour/csv')\n",
    "eegdat        = os.path.join(workingfolder, 'EEG') #only on workstation though, no eeg data on laptop\n",
    "eyelist       = os.listdir(eyedat)\n",
    "eyelist       = np.sort(eyelist)\n",
    "behlist       = np.sort(os.listdir(behdat))\n",
    "saccadedat    = os.path.join(workingfolder, 'saccades')\n",
    "if not os.path.exists(saccadedat):\n",
    "    os.mkdir(saccadedat)\n",
    "sublist = [4, 5, 6, 7, 8, 9]\n",
    "parts   = ['a','b']\n",
    "#1KHz  sample: 1 5 6 7 8 9\n",
    "#250Hz sample: 4"
   ]
  },
  {
   "cell_type": "code",
   "execution_count": 3,
   "metadata": {
    "collapsed": true
   },
   "outputs": [],
   "source": [
    "# specs for the task\n",
    "resxy = (1920,1080)\n",
    "scrsize = (60,34)\n",
    "scrdist = 100 # cm\n",
    "#pixpcm = np.mean([resxy[0]/scrsize[0],resxy[1]/scrsize[1]])\n",
    "#samplerate = 1000.0 # Hz , sample every 1ms. subject 4 has 250Hz SR, all other 1kHz\n",
    "samplerate = 250.0 #for subject 4\n",
    "# Data files\n",
    "sep = '\\t' #value separator\n",
    "EDFSTART = \"_BEG\"\n",
    "EDFSTOP  = \"END\"\n",
    "TRIALORDER = [\"B(.*)_T(.*)_BEG\",\"B(.*)_T(.*)_CUE\",\"B(.*)_T(.*)_ARR\",\"B(.*)_T(.*)_RESP\",\"B(.*)_T(.*)_END\"]\n",
    "INVALCODE = np.NaN"
   ]
  },
  {
   "cell_type": "code",
   "execution_count": null,
   "metadata": {
    "collapsed": true
   },
   "outputs": [],
   "source": [
    "# columns in the behavioural data\n",
    "# subject  - subject number\n",
    "# session  - session number\n",
    "# task     - task type (1 = attention, 2 = saccade)\n",
    "# cuecol   - \n",
    "# cueloc   - cued location (1:8)\n",
    "# validity - validity of cue (1 = valid, 0 = invalid)\n",
    "# targloc  - location of target (1:8) - can be same or different to cueloc depending on validity of trial\n",
    "# targtilt - orientation of target (1 = , 2 = )\n",
    "# delay    -\n",
    "# resp     - response made: 0 = no response, 1 = , 2 = \n",
    "# time     - NaN on saccade trials (or trials with no response), otherwise RT in seconds\n",
    "# corr     - accuracy of trial (1 = correct, 0 = incorrect), all saccade trials coded with 0 as no response"
   ]
  },
  {
   "cell_type": "code",
   "execution_count": 4,
   "metadata": {
    "collapsed": false
   },
   "outputs": [
    {
     "name": "stdout",
     "output_type": "stream",
     "text": [
      "working on S04\n",
      "combining S04 part 1 eyetracking and behavioural data, and adding triggers to eyetracking data\n",
      "combining S04 part 2 eyetracking and behavioural data, and adding triggers to eyetracking data\n",
      "working on S05\n",
      "combining S05 part 1 eyetracking and behavioural data, and adding triggers to eyetracking data\n",
      "combining S05 part 2 eyetracking and behavioural data, and adding triggers to eyetracking data\n",
      "working on S06\n",
      "combining S06 part 1 eyetracking and behavioural data, and adding triggers to eyetracking data\n",
      "combining S06 part 2 eyetracking and behavioural data, and adding triggers to eyetracking data\n",
      "working on S07\n",
      "combining S07 part 1 eyetracking and behavioural data, and adding triggers to eyetracking data\n",
      "combining S07 part 2 eyetracking and behavioural data, and adding triggers to eyetracking data\n",
      "working on S08\n",
      "combining S08 part 1 eyetracking and behavioural data, and adding triggers to eyetracking data\n",
      "combining S08 part 2 eyetracking and behavioural data, and adding triggers to eyetracking data\n",
      "working on S09\n",
      "combining S09 part 1 eyetracking and behavioural data, and adding triggers to eyetracking data\n",
      "combining S09 part 2 eyetracking and behavioural data, and adding triggers to eyetracking data\n"
     ]
    }
   ],
   "source": [
    "edat = []\n",
    "for sub in range(len(sublist)):\n",
    "    print('working on S%02d'%(sublist[sub]))\n",
    "    fname    = os.path.join(eyedat, 'AttSacc_S%02d%s.asc'%(sublist[sub], parts[0]))\n",
    "    datname  = os.path.join(behdat, 'AttSacc_S%02d%s.csv'%(sublist[sub], parts[0]))\n",
    "    bdata    = pd.DataFrame.from_csv(datname, header=0, sep = ',', index_col=False)\n",
    "    edata    = read_edf(fname, EDFSTART, EDFSTOP, missing = np.NaN, debug = False)\n",
    "\n",
    "    fname2   = os.path.join(eyedat, 'AttSacc_S%02d%s.asc'%(sublist[sub], parts[1]))\n",
    "    datname2 = os.path.join(behdat, 'AttSacc_S%02d%s.csv'%(sublist[sub], parts[1]))\n",
    "    bdata2   = pd.DataFrame.from_csv(datname2, header=0, sep = ',', index_col=False)\n",
    "    edata2   = read_edf(fname2, EDFSTART, EDFSTOP, missing = np.NaN, debug = False)\n",
    "\n",
    "    print('combining S%02d part 1 eyetracking and behavioural data, and adding triggers to eyetracking data'%(sublist[sub]))\n",
    "    for trial in range(len(edata)):\n",
    "        trl  = bdata.iloc[trial,:]\n",
    "        edata[trial]['behaviour'] = {\n",
    "            'subject'  : trl.loc['subject'] , 'session'  : trl.loc['session'] ,\n",
    "            'task'     : trl.loc['task']    , 'cuecol'   : trl.loc['cuecol']  ,\n",
    "            'cueloc'   : trl.loc['cueloc']  , 'validity' : trl.loc['validity'],\n",
    "            'targloc'  : trl.loc['targloc'] , 'targtilt' : trl.loc['targtilt'],\n",
    "            'delay'    : trl.loc['delay']   , 'resp'     : trl.loc['resp']    ,\n",
    "            'time'     : trl.loc['time']    , 'corr'     : trl.loc['corr']     }\n",
    "        trigs = edata[trial]['events']['msg']\n",
    "        if len(trigs) == 4: # attention trial\n",
    "            trltype = 1 #attention trial\n",
    "            begtrig   = edata[trial]['events']['msg'][0][0] #get edf timestamp for the trial start trigger\n",
    "            cuetrig   = edata[trial]['events']['msg'][1][0] #get edf timestamp for cue trigger\n",
    "            arrtrig   = edata[trial]['events']['msg'][2][0] #get edf timestamp for array trigger\n",
    "            resptrig  = edata[trial]['events']['msg'][3][0] #get edf timestamp for array trigger\n",
    "        elif len(trigs) == 3: #saccade trial, no response\n",
    "            trltype = 2 #saccade trial\n",
    "            begtrig   = edata[trial]['events']['msg'][0][0] #get edf timestamp for the trial start trigger\n",
    "            cuetrig   = edata[trial]['events']['msg'][1][0] #get edf timestamp for cue trigger\n",
    "            arrtrig   = edata[trial]['events']['msg'][2][0] #get edf timestamp for array trigger\n",
    "        #find sample nearest to the trigger time\n",
    "        begind  = np.argmin(np.abs(begtrig  - edata[trial]['trackertime']))\n",
    "        cueind  = np.argmin(np.abs(cuetrig  - edata[trial]['trackertime']))\n",
    "        arrind  = np.argmin(np.abs(arrtrig  - edata[trial]['trackertime']))\n",
    "        if trltype == 1:\n",
    "            respind = np.argmin(np.abs(resptrig - edata[trial]['trackertime']))\n",
    "        if trltype == 1: #attention trial triggers\n",
    "            triggers = { #make dictionary of triggers\n",
    "                \"start\" : [begtrig,  begind],\n",
    "                \"cue\"   : [cuetrig,  cueind],\n",
    "                \"array\" : [arrtrig,  arrind],\n",
    "                \"resp\"  : [resptrig, respind]}\n",
    "        if trltype == 2: #saccade trial triggers\n",
    "            triggers = { #make dictionary of triggers\n",
    "                \"start\" : [begtrig,  begind],\n",
    "                \"cue\"   : [cuetrig,  cueind],\n",
    "                \"array\" : [arrtrig,  arrind],}\n",
    "        edata[trial]['triggers'] = triggers\n",
    "        # triggers : [EDFTIME, TRIAL_TIME]      \n",
    "    saccfname = '%s/AttentionSaccade_S%02d%s_SaccadeData.csv' %(saccadedat, sublist[sub],parts[0])\n",
    "    if not os.path.exists(saccfname):    \n",
    "        print('writing saccade data to file now')\n",
    "        saccfile     = open(saccfname, 'w')\n",
    "        saccfile.write('{},{},{},{},{},{},{},{},{},{} \\n'.format(\n",
    "            'subject','trial','start','end','duration','startx', 'starty','endx', 'endy', 'velocity'))\n",
    "        for trial in range(len(edata)):\n",
    "            saccades = edata[trial]['events']['Esac']\n",
    "            tnum = trial + 1\n",
    "            subject = edata[trial]['behaviour']['subject']\n",
    "            ttime = edata[trial]['trackertime'][0]\n",
    "            #saccades[saccade]: start, end, duration, startx, starty, endx, endy\n",
    "            for saccade in range(len(saccades)):\n",
    "                saccadevel = np.sqrt((saccades[saccade][5]-saccades[saccade][3])**2 +\n",
    "                                     (saccades[saccade][6]-saccades[saccade][4])**2  ) / saccades[saccade][2]\n",
    "                saccfile.write('{},{},{},{},{},{},{},{},{},{} \\n'.format(\n",
    "                        subject,tnum,saccades[saccade][0]-ttime,saccades[saccade][1]-ttime,\n",
    "                        saccades[saccade][2],saccades[saccade][3],saccades[saccade][4],\n",
    "                        saccades[saccade][5],saccades[saccade][6],saccadevel))\n",
    "        saccfile.close()\n",
    "    print('combining S%02d part 2 eyetracking and behavioural data, and adding triggers to eyetracking data'%(sublist[sub]))\n",
    "    for trial in range(len(edata2)):\n",
    "        trl          = bdata2.iloc[trial,:]\n",
    "        edata2[trial]['behaviour'] = {\n",
    "            'subject'  : trl.loc['subject'] , 'session'  : trl.loc['session'] ,\n",
    "            'task'     : trl.loc['task']    , 'cuecol'   : trl.loc['cuecol']  ,\n",
    "            'cueloc'   : trl.loc['cueloc']  , 'validity' : trl.loc['validity'],\n",
    "            'targloc'  : trl.loc['targloc'] , 'targtilt' : trl.loc['targtilt'],\n",
    "            'delay'    : trl.loc['delay']   , 'resp'     : trl.loc['resp']    ,\n",
    "            'time'     : trl.loc['time']    , 'corr'     : trl.loc['corr']     }\n",
    "        trigs = edata2[trial]['events']['msg']\n",
    "        if len(trigs) == 4: # attention trial\n",
    "            trltype = 1 #attention trial\n",
    "            begtrig   = edata2[trial]['events']['msg'][0][0] #get edf timestamp for the trial start trigger\n",
    "            cuetrig   = edata2[trial]['events']['msg'][1][0] #get edf timestamp for cue trigger\n",
    "            arrtrig   = edata2[trial]['events']['msg'][2][0] #get edf timestamp for array trigger\n",
    "            resptrig  = edata2[trial]['events']['msg'][3][0] #get edf timestamp for array trigger\n",
    "        elif len(trigs) == 3: #saccade trial, no response\n",
    "            trltype = 2 #saccade trial\n",
    "            begtrig   = edata2[trial]['events']['msg'][0][0] #get edf timestamp for the trial start trigger\n",
    "            cuetrig   = edata2[trial]['events']['msg'][1][0] #get edf timestamp for cue trigger\n",
    "            arrtrig   = edata2[trial]['events']['msg'][2][0] #get edf timestamp for array trigger\n",
    "        #find sample nearest to the trigger time\n",
    "        begind  = np.argmin(np.abs(begtrig  - edata2[trial]['trackertime']))\n",
    "        cueind  = np.argmin(np.abs(cuetrig  - edata2[trial]['trackertime']))\n",
    "        arrind  = np.argmin(np.abs(arrtrig  - edata2[trial]['trackertime']))\n",
    "        if trltype == 1:\n",
    "            respind = np.argmin(np.abs(resptrig - edata2[trial]['trackertime']))\n",
    "        if trltype == 1: #attention trial triggers\n",
    "            triggers = { #make dictionary of triggers\n",
    "                \"start\" : [begtrig,  begind],\n",
    "                \"cue\"   : [cuetrig,  cueind],\n",
    "                \"array\" : [arrtrig,  arrind],\n",
    "                \"resp\"  : [resptrig, respind]}\n",
    "        if trltype == 2: #saccade trial triggers\n",
    "            triggers = { #make dictionary of triggers\n",
    "                \"start\" : [begtrig,  begind],\n",
    "                \"cue\"   : [cuetrig,  cueind],\n",
    "                \"array\" : [arrtrig,  arrind],}\n",
    "        edata2[trial]['triggers'] = triggers\n",
    "        # triggers : [EDFTIME, TRIAL_TIME]  \n",
    "    saccfname2    = '%s/AttentionSaccade_S%02d%s_SaccadeData.csv' %(saccadedat, sublist[sub],parts[1])\n",
    "    if not os.path.exists(saccfname2):\n",
    "        print('writing saccade data to file now')\n",
    "        saccfile2     = open(saccfname2, 'w')\n",
    "        saccfile2.write('{},{},{},{},{},{},{},{},{},{} \\n'.format(\n",
    "            'subject','trial','start','end','duration','startx', 'starty','endx', 'endy', 'velocity'))\n",
    "        for trial in range(len(edata2)):\n",
    "            saccades = edata2[trial]['events']['Esac']\n",
    "            tnum = trial + 1\n",
    "            subject = edata2[trial]['behaviour']['subject']\n",
    "            ttime = edata2[trial]['trackertime'][0]\n",
    "            #saccades[saccade]: start, end, duration, startx, starty, endx, endy\n",
    "            for saccade in range(len(saccades)):\n",
    "                saccadevel = np.sqrt((saccades[saccade][5]-saccades[saccade][3])**2 +\n",
    "                                     (saccades[saccade][6]-saccades[saccade][4])**2  ) / saccades[saccade][2]\n",
    "                saccfile2.write('{},{},{},{},{},{},{},{},{},{} \\n'.format(\n",
    "                        subject,tnum,saccades[saccade][0]-ttime,saccades[saccade][1]-ttime,\n",
    "                        saccades[saccade][2],saccades[saccade][3],saccades[saccade][4],\n",
    "                        saccades[saccade][5],saccades[saccade][6],saccadevel))\n",
    "        saccfile2.close()\n",
    "    comb = edata + edata2\n",
    "    edat.append(comb)"
   ]
  },
  {
   "cell_type": "code",
   "execution_count": 6,
   "metadata": {
    "collapsed": false
   },
   "outputs": [],
   "source": [
    "# go through every subject and trial to calculate saccadic response time for a given trial\n",
    "# finds the first saccade of a trial after the target appears ('array' trigger)\n",
    "# takes the time at which is starts, and subtracts the time at which the array appears, to calculate\n",
    "# saccade response timek\n",
    "\n",
    "for isub in range(len(edat)):\n",
    "    sacctask = [x for x in range(len(edat[isub])) if edat[isub][x]['behaviour']['task'] == 2.0]\n",
    "    for i in sacctask:\n",
    "        targettrig   = edat[isub][i]['triggers']['array']\n",
    "        fstime       = edat[isub][i]['trackertime'][0]\n",
    "        if len(edat[isub][i]['events']['Esac']) > 0:\n",
    "            trlsaccades  = np.array(edat[isub][i]['events']['Esac']) #extract saccades for trial\n",
    "            trlsaccades  = trlsaccades[np.argsort(trlsaccades[:,0])] #sort saccades by start time\n",
    "            inds         = np.squeeze(np.where(trlsaccades[:,0] >= targettrig[0])) # find saccades after probe\n",
    "            if inds.size > 1:\n",
    "                firstind = inds[0] #take first saccade after probe\n",
    "                firstsaccade = trlsaccades[firstind]\n",
    "                edat[isub][i]['behaviour']['fstime']       = fstime #add first sample time to behavioural data\n",
    "                edat[isub][i]['behaviour']['firstsaccade'] = firstsaccade #add all saccade data\n",
    "                edat[isub][i]['behaviour']['saccadetime']  = firstsaccade[0]-fstime - targettrig[1] #add just saccadic response time\n",
    "            elif inds.size == 1: #only one saccade happened after the probe, so firstind = inds\n",
    "                firstind = inds # firstind = 0, as only 1 saccade in trial\n",
    "                firstsaccade = trlsaccades[firstind]\n",
    "                edat[isub][i]['behaviour']['fstime']       = fstime\n",
    "                edat[isub][i]['behaviour']['firstsaccade'] = firstsaccade\n",
    "                edat[isub][i]['behaviour']['saccadetime']  = firstsaccade[0]-fstime - targettrig[1]\n",
    "            elif inds.size == 0: #no saccades happened after the probe on this trial\n",
    "                edat[isub][i]['behaviour']['fstime']       = fstime\n",
    "                edat[isub][i]['behaviour']['firstsaccade'] = np.NaN\n",
    "                edat[isub][i]['behaviour']['saccadetime']  = np.NaN\n",
    "        elif len(edat[isub][i]['events']['Esac']) == 0: #no saccades happened on this trial\n",
    "            edat[isub][i]['behaviour']['fstime']       = fstime\n",
    "            edat[isub][i]['behaviour']['firstsaccade'] = np.NaN\n",
    "            edat[isub][i]['behaviour']['saccadetime']  = np.NaN"
   ]
  },
  {
   "cell_type": "code",
   "execution_count": 12,
   "metadata": {
    "collapsed": true
   },
   "outputs": [],
   "source": [
    "meanvaltime = []\n",
    "meaninvtime = []\n",
    "for isub in range(len(edat)):\n",
    "    if isub == 0: # subject 4, sample rate was 250hz so saccade onset is out by a factor of 4 (vs. 1000hz sample rate)\n",
    "        sacval = [x for x in range(len(edat[isub])) if edat[isub][x]['behaviour']['task']==2.0 and edat[isub][x]['behaviour']['validity']==1.0]\n",
    "        sacinv = [x for x in range(len(edat[isub])) if edat[isub][x]['behaviour']['task']==2.0 and edat[isub][x]['behaviour']['validity']==0.0]\n",
    "        valtrls = []; invtrls = []\n",
    "        for i in sacval:\n",
    "            valtrls.append(edat[isub][i]['behaviour']['saccadetime']/4)\n",
    "        for i in sacinv:\n",
    "            invtrls.append(edat[isub][i]['behaviour']['saccadetime']/4)\n",
    "        valtrials = []; invtrials = []\n",
    "        valtrlz = [x for x in range(len(valtrls)) if np.isnan(valtrls[x])==False]\n",
    "        invtrlz = [y for y in range(len(invtrls)) if np.isnan(invtrls[y])==False]\n",
    "        for i in valtrlz:\n",
    "            valtrials.append(valtrls[i])\n",
    "        for i in invtrlz:\n",
    "            invtrials.append(invtrls[i])\n",
    "        meanvaltime.append(np.mean(valtrials))\n",
    "        meaninvtime.append(np.mean(invtrials))\n",
    "    elif isub > 0:\n",
    "        sacval = [x for x in range(len(edat[isub])) if edat[isub][x]['behaviour']['task']==2.0 and edat[isub][x]['behaviour']['validity']==1.0]\n",
    "        sacinv = [x for x in range(len(edat[isub])) if edat[isub][x]['behaviour']['task']==2.0 and edat[isub][x]['behaviour']['validity']==0.0]\n",
    "        valtrls = []; invtrls = []\n",
    "        for i in sacval:\n",
    "            valtrls.append(edat[isub][i]['behaviour']['saccadetime'])\n",
    "        for i in sacinv:\n",
    "            invtrls.append(edat[isub][i]['behaviour']['saccadetime'])\n",
    "        valtrials = []; invtrials = []\n",
    "        valtrlz = [x for x in range(len(valtrls)) if np.isnan(valtrls[x])==False]\n",
    "        invtrlz = [y for y in range(len(invtrls)) if np.isnan(invtrls[y])==False]\n",
    "        for i in valtrlz:\n",
    "            valtrials.append(valtrls[i])\n",
    "        for i in invtrlz:\n",
    "            invtrials.append(invtrls[i])\n",
    "        meanvaltime.append(np.mean(valtrials))\n",
    "        meaninvtime.append(np.mean(invtrials))\n",
    "\n",
    "id = range(4,10)\n",
    "meanvaltime = pd.DataFrame(meanvaltime, id)"
   ]
  },
  {
   "cell_type": "code",
   "execution_count": 61,
   "metadata": {
    "collapsed": false
   },
   "outputs": [
    {
     "data": {
      "text/html": [
       "<div>\n",
       "<table border=\"1\" class=\"dataframe\">\n",
       "  <thead>\n",
       "    <tr style=\"text-align: right;\">\n",
       "      <th></th>\n",
       "      <th>ST</th>\n",
       "      <th>subid</th>\n",
       "    </tr>\n",
       "  </thead>\n",
       "  <tbody>\n",
       "    <tr>\n",
       "      <th>0</th>\n",
       "      <td>398.430248</td>\n",
       "      <td>4</td>\n",
       "    </tr>\n",
       "    <tr>\n",
       "      <th>1</th>\n",
       "      <td>264.790026</td>\n",
       "      <td>5</td>\n",
       "    </tr>\n",
       "    <tr>\n",
       "      <th>2</th>\n",
       "      <td>219.438642</td>\n",
       "      <td>6</td>\n",
       "    </tr>\n",
       "    <tr>\n",
       "      <th>3</th>\n",
       "      <td>229.752282</td>\n",
       "      <td>7</td>\n",
       "    </tr>\n",
       "    <tr>\n",
       "      <th>4</th>\n",
       "      <td>244.145833</td>\n",
       "      <td>8</td>\n",
       "    </tr>\n",
       "    <tr>\n",
       "      <th>5</th>\n",
       "      <td>191.794003</td>\n",
       "      <td>9</td>\n",
       "    </tr>\n",
       "  </tbody>\n",
       "</table>\n",
       "</div>"
      ],
      "text/plain": [
       "           ST  subid\n",
       "0  398.430248      4\n",
       "1  264.790026      5\n",
       "2  219.438642      6\n",
       "3  229.752282      7\n",
       "4  244.145833      8\n",
       "5  191.794003      9"
      ]
     },
     "execution_count": 61,
     "metadata": {},
     "output_type": "execute_result"
    }
   ],
   "source": [
    "subid = range(4,10)\n",
    "tmp = pd.DataFrame(meanvaltime); tmp.columns = ['ST']\n",
    "tmp['subid'] = subid; tmp['Validity']\n",
    "tmp"
   ]
  },
  {
   "cell_type": "code",
   "execution_count": 21,
   "metadata": {
    "collapsed": false
   },
   "outputs": [
    {
     "name": "stdout",
     "output_type": "stream",
     "text": [
      "<built-in method count of Ttest_relResult object at 0x7fb12cb6a730>\n"
     ]
    },
    {
     "data": {
      "image/png": "[encoded data removed]",
      "text/plain": [
       "<matplotlib.figure.Figure at 0x7fb12c48ba90>"
      ]
     },
     "metadata": {},
     "output_type": "display_data"
    }
   ],
   "source": [
    "#meanvaltime and meaninvtime\n",
    "valmean = sp.mean(meanvaltime);     invmean = sp.mean(meaninvtime)\n",
    "valsem = sp.stats.sem(meanvaltime); invsem = sp.stats.sem(meaninvtime)\n",
    "\n",
    "toplot = np.array([[valmean,1, valsem],[invmean, 2, invsem]])\n",
    "toplot = pd.DataFrame(toplot)\n",
    "toplot.columns = ['ST', 'Validity', 'sem']\n",
    "\n",
    "sns.barplot(x = toplot.Validity, y = toplot.ST, ci = toplot.sem)\n",
    "#print meanvaltime, meaninvtime\n",
    "test = stats.ttest_rel(meanvaltime, meaninvtime)\n",
    "print test.statistic, test.pvalue"
   ]
  },
  {
   "cell_type": "code",
   "execution_count": 35,
   "metadata": {
    "collapsed": true
   },
   "outputs": [
    {
     "name": "stdout",
     "output_type": "stream",
     "text": [
      "           ST\n",
      "0  398.430248\n",
      "1  264.790026\n",
      "2  219.438642\n",
      "3  229.752282\n",
      "4  244.145833\n",
      "5  191.794003 \n",
      "           ST\n",
      "0  408.386719\n",
      "1  247.963542\n",
      "2  236.785340\n",
      "3  319.052632\n",
      "4  295.828125\n",
      "5  259.317708\n"
     ]
    }
   ],
   "source": [
    "#meanvaltime, meaninvtime\n",
    "meanvaltime2  = pd.DataFrame(meanvaltime); meanvaltime2.columns = ['ST']\n",
    "meaninvtime2  = pd.DataFrame(meaninvtime); meaninvtime2.columns = ['ST']\n",
    "print meanvaltime2, '\\n', meaninvtime2"
   ]
  },
  {
   "cell_type": "code",
   "execution_count": 42,
   "metadata": {
    "collapsed": true
   },
   "outputs": [
    {
     "name": "stdout",
     "output_type": "stream",
     "text": [
      "           ST Validity\n",
      "0  398.430248    Valid\n",
      "1  264.790026    Valid\n",
      "2  219.438642    Valid\n",
      "3  229.752282    Valid\n",
      "4  244.145833    Valid\n",
      "5  191.794003    Valid\n",
      "0  408.386719  Invalid\n",
      "1  247.963542  Invalid\n",
      "2  236.785340  Invalid\n",
      "3  319.052632  Invalid\n",
      "4  295.828125  Invalid\n",
      "5  259.317708  Invalid\n"
     ]
    }
   ],
   "source": [
    "meanvaltime2['Validity'] = 'Valid'; meaninvtime2[\"Validity\"] = \"Invalid\"\n",
    "plotting = pd.concat([meanvaltime2, meaninvtime2])\n",
    "print plotting"
   ]
  },
  {
   "cell_type": "code",
   "execution_count": 49,
   "metadata": {
    "collapsed": false
   },
   "outputs": [
    {
     "data": {
      "text/plain": [
       "<matplotlib.axes._subplots.AxesSubplot at 0x7fb12be40cd0>"
      ]
     },
     "execution_count": 49,
     "metadata": {},
     "output_type": "execute_result"
    },
    {
     "data": {
      "image/png": "[encoded data removed]",
      "text/plain": [
       "<matplotlib.figure.Figure at 0x7fb12bdd38d0>"
      ]
     },
     "metadata": {},
     "output_type": "display_data"
    }
   ],
   "source": [
    "sns.barplot(x = plotting.Validity, y = plotting.ST, ci = 68)\n",
    "#sns.barplot(x = toplot.Validity, y = toplot.ST, ci = toplot.sem)\n",
    "#barplot(x=None, y=None, hue=None, data=None, order=None, hue_order=None,\n",
    "#        estimator=np.mean, ci=95, n_boot=1000, units=None,\n",
    "#        orient=None, color=None, palette=None, saturation=.75,\n",
    "#        errcolor=\".26\", ax=None, **kwargs):"
   ]
  },
  {
   "cell_type": "code",
   "execution_count": null,
   "metadata": {
    "collapsed": false
   },
   "outputs": [],
   "source": [
    "#seaborn.kdeplot(np.array(valtrls), bw = 0.5)\n",
    "\n",
    "#seaborn.distplot(np.array(valtrls), bins = 20, hist = True)\n",
    "#seaborn.distplot(valtrls)\n",
    "sns.set(color_codes=True)\n",
    "#sns.distplot(valtrls)\n",
    "np.where(np.isnan(valtrls))\n",
    "valtrlz = [x for x in range(len(valtrls)) if np.isnan(valtrls[x])==False]\n",
    "valtrials = []\n",
    "for i in valtrlz:\n",
    "    valtrials.append(valtrls[i])"
   ]
  },
  {
   "cell_type": "code",
   "execution_count": null,
   "metadata": {
    "collapsed": false
   },
   "outputs": [],
   "source": [
    "sns.distplot(valtrials, bins = 30)"
   ]
  },
  {
   "cell_type": "code",
   "execution_count": null,
   "metadata": {
    "collapsed": true
   },
   "outputs": [],
   "source": [
    "meanvaltime = []\n",
    "meaninvtime = []\n",
    "for isub in range(len(edat)):\n",
    "    if isub == 0:\n",
    "        subject = edat[isub]\n",
    "        valtrls = [x for x in range(len(subject)) if subject[x]['behaviour']['task']==2.0 and subject[x]['behaviour']['validity'] == 1.0]\n",
    "        invtrls = [x for x in range(len(subject)) if subject[x]['behaviour']['task']==2.0 and subject[x]['behaviour']['validity'] == 0.0]"
   ]
  },
  {
   "cell_type": "code",
   "execution_count": null,
   "metadata": {
    "collapsed": false
   },
   "outputs": [],
   "source": [
    "trls = []\n",
    "sacctask = [x for x in range(len(subject)) if subject[x]['behaviour']['task']==2.0]\n",
    "for i in sacctask:\n",
    "    trls.append(subject[i]['behaviour']['saccadetime'])\n",
    "#sactimes = subject[]['behaviour']['saccadetime']"
   ]
  },
  {
   "cell_type": "code",
   "execution_count": null,
   "metadata": {
    "collapsed": false
   },
   "outputs": [],
   "source": [
    "plt.figure(figsize = (15,10))\n",
    "plt.plot(temp['x'], color = '#fec44f')\n",
    "plt.axvline(targtrig[1], color = '#e41a1c')\n",
    "plt.axvline(temp['events']['Esac'][1][0]-ttime, ls = 'dashed', color = '#636363')\n",
    "#plt.axvline(temp['events']['Esac'][2][0]-ttime, ls = 'dashed', color = '#636363')\n",
    "#plt.axvline(temp['events']['Esac'][3][0]-ttime, ls = 'dashed', color = '#636363')\n",
    "#plt.axvline(temp['events']['Esac'][4][0]-ttime, ls = 'dashed', color = '#636363')\n"
   ]
  },
  {
   "cell_type": "code",
   "execution_count": null,
   "metadata": {
    "collapsed": false
   },
   "outputs": [],
   "source": [
    "# edat contains all, both eyetracking and behavioural, but it's computationally 'intensive' to create this\n",
    "# every time you want to access this data. This structure should be created once only, then output as a\n",
    "# text file that can be read in, rather than recreating and overwriting certain things each time\n",
    "# this section will separate edat by subject - edat[0] contains subject 4 data at the moment and then write\n",
    "\n",
    "# need to find a dataformat that can make each subject data to a file\n",
    "#that can be read in the subsequent cell replacing the need for some cells above"
   ]
  }
 ],
 "metadata": {
  "kernelspec": {
   "display_name": "Python [Root]",
   "language": "python",
   "name": "Python [Root]"
  },
  "language_info": {
   "codemirror_mode": {
    "name": "ipython",
    "version": 2
   },
   "file_extension": ".py",
   "mimetype": "text/x-python",
   "name": "python",
   "nbconvert_exporter": "python",
   "pygments_lexer": "ipython2",
   "version": "2.7.11"
  }
 },
 "nbformat": 4,
 "nbformat_minor": 0
}
