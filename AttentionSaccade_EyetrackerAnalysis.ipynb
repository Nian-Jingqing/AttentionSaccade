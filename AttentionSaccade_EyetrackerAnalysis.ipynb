{
 "cells": [
  {
   "cell_type": "code",
   "execution_count": 1,
   "metadata": {
    "collapsed": true
   },
   "outputs": [],
   "source": [
    "import numpy as np\n",
    "import scipy as sp\n",
    "import pandas as pd\n",
    "import pygazeanalyser\n",
    "import matplotlib\n",
    "from matplotlib import pyplot as plt\n",
    "from pygazeanalyser.edfreader import read_edf\n",
    "from scipy import stats, signal, ndimage\n",
    "import re\n",
    "import os\n",
    "import mne\n",
    "from mpl_toolkits.mplot3d import Axes3D\n",
    "%matplotlib inline"
   ]
  },
  {
   "cell_type": "code",
   "execution_count": 2,
   "metadata": {
    "collapsed": false
   },
   "outputs": [],
   "source": [
    "# set relevant directories and paths\n",
    "#workingfolder = '/Users/user/Desktop/Experiments/Nick/AttentionSaccade/' #laptop directory\n",
    "workingfolder = '/home/sammirc/Experiments/Nick/AttentionSaccade' #workstation directory\n",
    "eyedat        = os.path.join(workingfolder, 'eyes')\n",
    "behdat        = os.path.join(workingfolder, 'behaviour/csv')\n",
    "eegdat        = os.path.join(workingfolder, 'EEG') #only on workstation though, no eeg data on laptop\n",
    "eyelist       = os.listdir(eyedat)\n",
    "eyelist       = np.sort(eyelist)\n",
    "behlist       = np.sort(os.listdir(behdat))\n",
    "saccadedat    = os.path.join(workingfolder, 'saccades')\n",
    "if not os.path.exists(saccadedat):\n",
    "    os.mkdir(saccadedat)\n",
    "sublist = [4, 5, 6, 7, 8, 9]\n",
    "parts   = ['a','b']\n",
    "#1KHz  sample: 1 5 6 7 8 9\n",
    "#250Hz sample: 4"
   ]
  },
  {
   "cell_type": "code",
   "execution_count": 3,
   "metadata": {
    "collapsed": true
   },
   "outputs": [],
   "source": [
    "# specs for the task\n",
    "resxy = (1920,1080)\n",
    "scrsize = (60,34)\n",
    "scrdist = 100 # cm\n",
    "#pixpcm = np.mean([resxy[0]/scrsize[0],resxy[1]/scrsize[1]])\n",
    "#samplerate = 1000.0 # Hz , sample every 1ms. subject 4 has 250Hz SR, all other 1kHz\n",
    "samplerate = 250.0 #for subject 4\n",
    "# Data files\n",
    "sep = '\\t' #value separator\n",
    "EDFSTART = \"_BEG\"\n",
    "EDFSTOP  = \"END\"\n",
    "TRIALORDER = [\"B(.*)_T(.*)_BEG\",\"B(.*)_T(.*)_CUE\",\"B(.*)_T(.*)_ARR\",\"B(.*)_T(.*)_RESP\",\"B(.*)_T(.*)_END\"]\n",
    "INVALCODE = np.NaN"
   ]
  },
  {
   "cell_type": "code",
   "execution_count": null,
   "metadata": {
    "collapsed": true
   },
   "outputs": [],
   "source": [
    "# columns in the behavioural data\n",
    "# subject  - subject number\n",
    "# session  - session number\n",
    "# task     - task type (1 = attention, 2 = saccade)\n",
    "# cuecol   - \n",
    "# cueloc   - cued location (1:8)\n",
    "# validity - validity of cue (1 = valid, 0 = invalid)\n",
    "# targloc  - location of target (1:8) - can be same or different to cueloc depending on validity of trial\n",
    "# targtilt - orientation of target (1 = , 2 = )\n",
    "# delay    -\n",
    "# resp     - response made: 0 = no response, 1 = , 2 = \n",
    "# time     - NaN on saccade trials (or trials with no response), otherwise RT in seconds\n",
    "# corr     - accuracy of trial (1 = correct, 0 = incorrect), all saccade trials coded with 0 as no response"
   ]
  },
  {
   "cell_type": "code",
   "execution_count": 5,
   "metadata": {
    "collapsed": true
   },
   "outputs": [],
   "source": [
    "sub = 0\n",
    "fname    = os.path.join(eyedat, 'AttSacc_S%02d%s.asc'%(sublist[sub], parts[0]))\n",
    "datname  = os.path.join(behdat, 'AttSacc_S%02d%s.csv'%(sublist[sub], parts[0]))\n",
    "bdata    = pd.DataFrame.from_csv(datname, header=0, sep = ',', index_col=False)\n",
    "edata    = read_edf(fname, EDFSTART, EDFSTOP, missing = np.NaN, debug = False)\n",
    "\n",
    "fname2   = os.path.join(eyedat, 'AttSacc_S%02d%s.asc'%(sublist[sub], parts[1]))\n",
    "datname2 = os.path.join(behdat, 'AttSacc_S%02d%s.csv'%(sublist[sub], parts[1]))\n",
    "bdata2   = pd.DataFrame.from_csv(datname2, header=0, sep = ',', index_col=False)\n",
    "edata2   = read_edf(fname2, EDFSTART, EDFSTOP, missing = np.NaN, debug = False)"
   ]
  },
  {
   "cell_type": "code",
   "execution_count": 8,
   "metadata": {
    "collapsed": true
   },
   "outputs": [
    {
     "name": "stdout",
     "output_type": "stream",
     "text": [
      "working on S04\n",
      "combining S04 part 1 eyetracking and behavioural data, and adding triggers to eyetracking data\n",
      "writing saccade data to file now\n",
      "combining S04 part 2 eyetracking and behavioural data, and adding triggers to eyetracking data\n",
      "writing saccade data to file now\n",
      "working on S05\n",
      "combining S05 part 1 eyetracking and behavioural data, and adding triggers to eyetracking data\n",
      "writing saccade data to file now\n",
      "combining S05 part 2 eyetracking and behavioural data, and adding triggers to eyetracking data\n",
      "writing saccade data to file now\n",
      "working on S06\n",
      "combining S06 part 1 eyetracking and behavioural data, and adding triggers to eyetracking data\n",
      "writing saccade data to file now\n",
      "combining S06 part 2 eyetracking and behavioural data, and adding triggers to eyetracking data\n",
      "writing saccade data to file now\n",
      "working on S07\n",
      "combining S07 part 1 eyetracking and behavioural data, and adding triggers to eyetracking data\n",
      "writing saccade data to file now\n",
      "combining S07 part 2 eyetracking and behavioural data, and adding triggers to eyetracking data\n",
      "writing saccade data to file now\n",
      "working on S08\n",
      "combining S08 part 1 eyetracking and behavioural data, and adding triggers to eyetracking data\n",
      "writing saccade data to file now\n",
      "combining S08 part 2 eyetracking and behavioural data, and adding triggers to eyetracking data\n",
      "writing saccade data to file now\n",
      "working on S09\n",
      "combining S09 part 1 eyetracking and behavioural data, and adding triggers to eyetracking data\n",
      "writing saccade data to file now\n",
      "combining S09 part 2 eyetracking and behavioural data, and adding triggers to eyetracking data\n",
      "writing saccade data to file now\n"
     ]
    }
   ],
   "source": [
    "edat = []\n",
    "for sub in range(len(sublist)):\n",
    "    print('working on S%02d'%(sublist[sub]))\n",
    "    fname    = os.path.join(eyedat, 'AttSacc_S%02d%s.asc'%(sublist[sub], parts[0]))\n",
    "    datname  = os.path.join(behdat, 'AttSacc_S%02d%s.csv'%(sublist[sub], parts[0]))\n",
    "    bdata    = pd.DataFrame.from_csv(datname, header=0, sep = ',', index_col=False)\n",
    "    edata    = read_edf(fname, EDFSTART, EDFSTOP, missing = np.NaN, debug = False)\n",
    "\n",
    "    fname2   = os.path.join(eyedat, 'AttSacc_S%02d%s.asc'%(sublist[sub], parts[1]))\n",
    "    datname2 = os.path.join(behdat, 'AttSacc_S%02d%s.csv'%(sublist[sub], parts[1]))\n",
    "    bdata2   = pd.DataFrame.from_csv(datname2, header=0, sep = ',', index_col=False)\n",
    "    edata2   = read_edf(fname2, EDFSTART, EDFSTOP, missing = np.NaN, debug = False)\n",
    "\n",
    "    print('combining S%02d part 1 eyetracking and behavioural data, and adding triggers to eyetracking data'%(sublist[sub]))\n",
    "    for trial in range(len(edata)):\n",
    "        trl  = bdata.iloc[trial,:]\n",
    "        edata[trial]['behaviour'] = {\n",
    "            'subject'  : trl.loc['subject'] , 'session'  : trl.loc['session'] ,\n",
    "            'task'     : trl.loc['task']    , 'cuecol'   : trl.loc['cuecol']  ,\n",
    "            'cueloc'   : trl.loc['cueloc']  , 'validity' : trl.loc['validity'],\n",
    "            'targloc'  : trl.loc['targloc'] , 'targtilt' : trl.loc['targtilt'],\n",
    "            'delay'    : trl.loc['delay']   , 'resp'     : trl.loc['resp']    ,\n",
    "            'time'     : trl.loc['time']    , 'corr'     : trl.loc['corr']     }\n",
    "        trigs = edata[trial]['events']['msg']\n",
    "        if len(trigs) == 4: # attention trial\n",
    "            trltype = 1 #attention trial\n",
    "            begtrig   = edata[trial]['events']['msg'][0][0] #get edf timestamp for the trial start trigger\n",
    "            cuetrig   = edata[trial]['events']['msg'][1][0] #get edf timestamp for cue trigger\n",
    "            arrtrig   = edata[trial]['events']['msg'][2][0] #get edf timestamp for array trigger\n",
    "            resptrig  = edata[trial]['events']['msg'][3][0] #get edf timestamp for array trigger\n",
    "        elif len(trigs) == 3: #saccade trial, no response\n",
    "            trltype = 2 #saccade trial\n",
    "            begtrig   = edata[trial]['events']['msg'][0][0] #get edf timestamp for the trial start trigger\n",
    "            cuetrig   = edata[trial]['events']['msg'][1][0] #get edf timestamp for cue trigger\n",
    "            arrtrig   = edata[trial]['events']['msg'][2][0] #get edf timestamp for array trigger\n",
    "        #find sample nearest to the trigger time\n",
    "        begind  = np.argmin(np.abs(begtrig  - edata[trial]['trackertime']))\n",
    "        cueind  = np.argmin(np.abs(cuetrig  - edata[trial]['trackertime']))\n",
    "        arrind  = np.argmin(np.abs(arrtrig  - edata[trial]['trackertime']))\n",
    "        if trltype == 1:\n",
    "            respind = np.argmin(np.abs(resptrig - edata[trial]['trackertime']))\n",
    "        if trltype == 1: #attention trial triggers\n",
    "            triggers = { #make dictionary of triggers\n",
    "                \"start\" : [begtrig,  begind],\n",
    "                \"cue\"   : [cuetrig,  cueind],\n",
    "                \"array\" : [arrtrig,  arrind],\n",
    "                \"resp\"  : [resptrig, respind]}\n",
    "        if trltype == 2: #saccade trial triggers\n",
    "            triggers = { #make dictionary of triggers\n",
    "                \"start\" : [begtrig,  begind],\n",
    "                \"cue\"   : [cuetrig,  cueind],\n",
    "                \"array\" : [arrtrig,  arrind],}\n",
    "        edata[trial]['triggers'] = triggers\n",
    "        # triggers : [EDFTIME, TRIAL_TIME]     \n",
    "    print('writing saccade data to file now')\n",
    "    saccfname = '%s/AttentionSaccade_S%02d%s_SaccadeData.csv' %(saccadedat, sublist[sub],parts[0])\n",
    "    saccfile     = open(saccfname, 'w')\n",
    "    saccfile.write('{},{},{},{},{},{},{},{},{},{} \\n'.format(\n",
    "        'subject','trial','start','end','duration','startx', 'starty','endx', 'endy', 'velocity'))\n",
    "    for trial in range(len(edata)):\n",
    "        saccades = edata[trial]['events']['Esac']\n",
    "        tnum = trial + 1\n",
    "        subject = edata[trial]['behaviour']['subject']\n",
    "        ttime = edata[trial]['trackertime'][0]\n",
    "        #saccades[saccade]: start, end, duration, startx, starty, endx, endy\n",
    "        for saccade in range(len(saccades)):\n",
    "            saccadevel = np.sqrt((saccades[saccade][5]-saccades[saccade][3])**2 +\n",
    "                                 (saccades[saccade][6]-saccades[saccade][4])**2  ) / saccades[saccade][2]\n",
    "            saccfile.write('{},{},{},{},{},{},{},{},{},{} \\n'.format(\n",
    "                    subject,tnum,saccades[saccade][0]-ttime,saccades[saccade][1]-ttime,\n",
    "                    saccades[saccade][2],saccades[saccade][3],saccades[saccade][4],\n",
    "                    saccades[saccade][5],saccades[saccade][6],saccadevel))\n",
    "    saccfile.close()\n",
    "    print('combining S%02d part 2 eyetracking and behavioural data, and adding triggers to eyetracking data'%(sublist[sub]))\n",
    "    for trial in range(len(edata2)):\n",
    "        trl          = bdata2.iloc[trial,:]\n",
    "        edata2[trial]['behaviour'] = {\n",
    "            'subject'  : trl.loc['subject'] , 'session'  : trl.loc['session'] ,\n",
    "            'task'     : trl.loc['task']    , 'cuecol'   : trl.loc['cuecol']  ,\n",
    "            'cueloc'   : trl.loc['cueloc']  , 'validity' : trl.loc['validity'],\n",
    "            'targloc'  : trl.loc['targloc'] , 'targtilt' : trl.loc['targtilt'],\n",
    "            'delay'    : trl.loc['delay']   , 'resp'     : trl.loc['resp']    ,\n",
    "            'time'     : trl.loc['time']    , 'corr'     : trl.loc['corr']     }\n",
    "        trigs = edata2[trial]['events']['msg']\n",
    "        if len(trigs) == 4: # attention trial\n",
    "            trltype = 1 #attention trial\n",
    "            begtrig   = edata2[trial]['events']['msg'][0][0] #get edf timestamp for the trial start trigger\n",
    "            cuetrig   = edata2[trial]['events']['msg'][1][0] #get edf timestamp for cue trigger\n",
    "            arrtrig   = edata2[trial]['events']['msg'][2][0] #get edf timestamp for array trigger\n",
    "            resptrig  = edata2[trial]['events']['msg'][3][0] #get edf timestamp for array trigger\n",
    "        elif len(trigs) == 3: #saccade trial, no response\n",
    "            trltype = 2 #saccade trial\n",
    "            begtrig   = edata2[trial]['events']['msg'][0][0] #get edf timestamp for the trial start trigger\n",
    "            cuetrig   = edata2[trial]['events']['msg'][1][0] #get edf timestamp for cue trigger\n",
    "            arrtrig   = edata2[trial]['events']['msg'][2][0] #get edf timestamp for array trigger\n",
    "        #find sample nearest to the trigger time\n",
    "        begind  = np.argmin(np.abs(begtrig  - edata2[trial]['trackertime']))\n",
    "        cueind  = np.argmin(np.abs(cuetrig  - edata2[trial]['trackertime']))\n",
    "        arrind  = np.argmin(np.abs(arrtrig  - edata2[trial]['trackertime']))\n",
    "        if trltype == 1:\n",
    "            respind = np.argmin(np.abs(resptrig - edata2[trial]['trackertime']))\n",
    "        if trltype == 1: #attention trial triggers\n",
    "            triggers = { #make dictionary of triggers\n",
    "                \"start\" : [begtrig,  begind],\n",
    "                \"cue\"   : [cuetrig,  cueind],\n",
    "                \"array\" : [arrtrig,  arrind],\n",
    "                \"resp\"  : [resptrig, respind]}\n",
    "        if trltype == 2: #saccade trial triggers\n",
    "            triggers = { #make dictionary of triggers\n",
    "                \"start\" : [begtrig,  begind],\n",
    "                \"cue\"   : [cuetrig,  cueind],\n",
    "                \"array\" : [arrtrig,  arrind],}\n",
    "        edata2[trial]['triggers'] = triggers\n",
    "        # triggers : [EDFTIME, TRIAL_TIME]     \n",
    "    print('writing saccade data to file now')\n",
    "    saccfname2    = '%s/AttentionSaccade_S%02d%s_SaccadeData.csv' %(saccadedat, sublist[sub],parts[1])\n",
    "    saccfile2     = open(saccfname2, 'w')\n",
    "    saccfile2.write('{},{},{},{},{},{},{},{},{},{} \\n'.format(\n",
    "        'subject','trial','start','end','duration','startx', 'starty','endx', 'endy', 'velocity'))\n",
    "    for trial in range(len(edata2)):\n",
    "        saccades = edata2[trial]['events']['Esac']\n",
    "        tnum = trial + 1\n",
    "        subject = edata2[trial]['behaviour']['subject']\n",
    "        ttime = edata2[trial]['trackertime'][0]\n",
    "        #saccades[saccade]: start, end, duration, startx, starty, endx, endy\n",
    "        for saccade in range(len(saccades)):\n",
    "            saccadevel = np.sqrt((saccades[saccade][5]-saccades[saccade][3])**2 +\n",
    "                                 (saccades[saccade][6]-saccades[saccade][4])**2  ) / saccades[saccade][2]\n",
    "            saccfile2.write('{},{},{},{},{},{},{},{},{},{} \\n'.format(\n",
    "                    subject,tnum,saccades[saccade][0]-ttime,saccades[saccade][1]-ttime,\n",
    "                    saccades[saccade][2],saccades[saccade][3],saccades[saccade][4],\n",
    "                    saccades[saccade][5],saccades[saccade][6],saccadevel))\n",
    "    saccfile2.close()\n",
    "    comb = edata + edata2\n",
    "    edat.append(comb)"
   ]
  },
  {
   "cell_type": "code",
   "execution_count": 22,
   "metadata": {
    "collapsed": false
   },
   "outputs": [
    {
     "data": {
      "text/plain": [
       "['triggers', 'behaviour', 'trackertime', 'time', 'y', 'x', 'events', 'size']"
      ]
     },
     "execution_count": 22,
     "metadata": {},
     "output_type": "execute_result"
    }
   ],
   "source": [
    "edat[0][0].keys()"
   ]
  },
  {
   "cell_type": "code",
   "execution_count": 28,
   "metadata": {
    "collapsed": true
   },
   "outputs": [],
   "source": [
    "subject = edat[1] # read in subject 5 as it's first participant at 1Khz sample rate"
   ]
  },
  {
   "cell_type": "code",
   "execution_count": 56,
   "metadata": {
    "collapsed": false
   },
   "outputs": [
    {
     "data": {
      "text/plain": [
       "2.0"
      ]
     },
     "execution_count": 56,
     "metadata": {},
     "output_type": "execute_result"
    }
   ],
   "source": [
    "subject[1]['behaviour']['task']"
   ]
  },
  {
   "cell_type": "code",
   "execution_count": 65,
   "metadata": {
    "collapsed": false
   },
   "outputs": [
    {
     "data": {
      "text/plain": [
       "960"
      ]
     },
     "execution_count": 65,
     "metadata": {},
     "output_type": "execute_result"
    }
   ],
   "source": [
    "len(subject)\n",
    "subject[0].keys()\n",
    "sacctask = [x for x in range(len(subject)) if subject[x]['behaviour']['task']==2.0]\n",
    "subject_sacctask = [subject[x] for x in sacctask]\n",
    "len(subject_sacctask)\n"
   ]
  },
  {
   "cell_type": "code",
   "execution_count": 120,
   "metadata": {
    "collapsed": false
   },
   "outputs": [
    {
     "name": "stdout",
     "output_type": "stream",
     "text": [
      "['triggers', 'behaviour', 'trackertime', 'time', 'y', 'x', 'events', 'size']\n",
      "\n",
      "\n",
      "{'start': [4417344, 0], 'cue': [4417845, 501], 'array': [4419385, 2041]}\n",
      "\n",
      "\n",
      "[4419385, 2041]\n",
      "\n",
      "\n",
      "[[4418446, 4418452, 7, 1002.6, 604.9, 989.6, 596.2], [4419619, 4419660, 42, 993.0, 604.3, 1410.5, 784.7], [4419617, 4419673, 57, 963.2, 598.0, 1366.6, 767.9], [4419987, 4420031, 45, 1387.3, 772.7, 987.1, 576.9], [4419986, 4420034, 49, 1379.2, 761.1, 978.8, 567.7]]\n",
      "\n",
      "\n",
      "[1, 2, 3, 4]\n",
      "\n",
      "\n",
      "[ 4418446.  4419617.  4419619.  4419986.  4419987.]\n",
      "\n",
      "\n",
      "[1 2 3 4]\n",
      "\n",
      "\n",
      "2273.0\n",
      "\n",
      "\n",
      "232.0\n"
     ]
    }
   ],
   "source": [
    "temp = subject_sacctask[0]\n",
    "print temp.keys()\n",
    "print('\\n')\n",
    "\n",
    "trigs = temp['triggers']\n",
    "print trigs\n",
    "print('\\n')\n",
    "\n",
    "targtrig = trigs['array']\n",
    "print targtrig\n",
    "print('\\n')\n",
    "\n",
    "print temp['events']['Esac']\n",
    "print('\\n')\n",
    "\n",
    "ttime = temp['trackertime'][0]\n",
    "targsac = [x for x in range(len(temp['events']['Esac'])) if temp['events']['Esac'][x][0] >=  targtrig[0]]\n",
    "\n",
    "\n",
    "print targsac\n",
    "print('\\n')\n",
    "\n",
    "#np.squeeze(temp['events']['Esac'][:][0]-ttime)\n",
    "trlsaccades = np.array(temp['events']['Esac'][:])\n",
    "trlsaccades = np.sort(trlsaccades,0)\n",
    "print trlsaccades[:,0]\n",
    "print('\\n')\n",
    "\n",
    "inds = np.squeeze(np.where(trlsaccades[:,0] >= targtrig[0])) \n",
    "print np.squeeze(np.where(trlsaccades[:,0] >= targtrig[0]))\n",
    "print('\\n')\n",
    "\n",
    "print trlsaccades[inds[0]][0] -ttime\n",
    "print('\\n')\n",
    "\n",
    "print (trlsaccades[inds[0]][0] -ttime) - targtrig[1]\n",
    "# ^^ time in ms taken to make first saccade after the target appeared on screen"
   ]
  },
  {
   "cell_type": "code",
   "execution_count": 93,
   "metadata": {
    "collapsed": false
   },
   "outputs": [
    {
     "data": {
      "text/plain": [
       "<matplotlib.lines.Line2D at 0x7f7479052b90>"
      ]
     },
     "execution_count": 93,
     "metadata": {},
     "output_type": "execute_result"
    },
    {
     "data": {
      "image/png": "[encoded data removed]",
      "text/plain": [
       "<matplotlib.figure.Figure at 0x7f74790526d0>"
      ]
     },
     "metadata": {},
     "output_type": "display_data"
    }
   ],
   "source": [
    "plt.figure(figsize = (15,10))\n",
    "plt.plot(temp['x'], color = '#fec44f')\n",
    "plt.axvline(targtrig[1], color = '#e41a1c')\n",
    "plt.axvline(temp['events']['Esac'][1][0]-ttime, ls = 'dashed', color = '#636363')\n",
    "#plt.axvline(temp['events']['Esac'][2][0]-ttime, ls = 'dashed', color = '#636363')\n",
    "#plt.axvline(temp['events']['Esac'][3][0]-ttime, ls = 'dashed', color = '#636363')\n",
    "#plt.axvline(temp['events']['Esac'][4][0]-ttime, ls = 'dashed', color = '#636363')\n"
   ]
  },
  {
   "cell_type": "code",
   "execution_count": 27,
   "metadata": {
    "collapsed": false
   },
   "outputs": [],
   "source": [
    "# edat contains all, both eyetracking and behavioural, but it's computationally 'intensive' to create this\n",
    "# every time you want to access this data. This structure should be created once only, then output as a\n",
    "# text file that can be read in, rather than recreating and overwriting certain things each time\n",
    "# this section will separate edat by subject - edat[0] contains subject 4 data at the moment and then write\n",
    "\n",
    "# need to find a dataformat that can make each subject data to a file\n",
    "#that can be read in the subsequent cell replacing the need for some cells above"
   ]
  }
 ],
 "metadata": {
  "kernelspec": {
   "display_name": "Python [Root]",
   "language": "python",
   "name": "Python [Root]"
  },
  "language_info": {
   "codemirror_mode": {
    "name": "ipython",
    "version": 2
   },
   "file_extension": ".py",
   "mimetype": "text/x-python",
   "name": "python",
   "nbconvert_exporter": "python",
   "pygments_lexer": "ipython2",
   "version": "2.7.11"
  }
 },
 "nbformat": 4,
 "nbformat_minor": 0
}
